{
 "cells": [
  {
   "cell_type": "markdown",
   "metadata": {},
   "source": [
    "# MFE 9815 - Software Engineering in Finance\n",
    "\n",
    "## Fall 2016 - Python Class - Part 2\n",
    "\n",
    "### Alain Ledon"
   ]
  },
  {
   "cell_type": "markdown",
   "metadata": {},
   "source": [
    "## Today we'll cover\n",
    "\n",
    "* Code Organization (Packages and Modules)\n",
    "* Object Oriented Programming\n"
   ]
  },
  {
   "cell_type": "markdown",
   "metadata": {},
   "source": [
    "# Code Organization\n",
    "\n",
    "* Python scripts are organized in _packages_ and _modules_\n",
    "* All python script (*.py) is considered a _module_\n",
    "* A directory containing python scripts could become a _package_\n",
    "* Use the keyword **import** to get access to module(s) and module(s) inside package(s)"
   ]
  },
  {
   "cell_type": "markdown",
   "metadata": {},
   "source": [
    "# Modules and Packages\n",
    "\n",
    "By definition all python scripts are _modules_. The *import* keyword provides module access; it imports the module as a whole.\n",
    "\n",
    "    import module [, module]*\n",
    "    import [package.]* module [, [package.]* module]*\n",
    "    import [package.]* module as name [, [package.]* module as name]*\n",
    "    from [package.]* module import module[, module]*\n",
    "    \n",
    "* You can access module content by qualification (e.g., _module.attribute_). \n",
    "* The _as_ clause assigns a variable _name_ to the imported module. It can be seen as an alias.\n",
    "* Import operations compile file's source to byte-code if needed (and save it as _.pyc_). Then execute the compiled code from top to bottom.\n",
    "* Note that you can't import a package, only a module(s) from a package.\n",
    "* You can use the keyword **from** to import specific functions, attributes and classes directly into the local namespace\n",
    "* _from mymodule import *_ will import everything from _mymodule_ into the local namespace (this is discouraged).\n"
   ]
  },
  {
   "cell_type": "code",
   "execution_count": 3,
   "metadata": {
    "collapsed": false
   },
   "outputs": [],
   "source": [
    "import pandas as pd\n",
    "import numpy as np\n",
    "import sklearn as skl\n",
    "import seaborn as sns"
   ]
  },
  {
   "cell_type": "code",
   "execution_count": null,
   "metadata": {
    "collapsed": false
   },
   "outputs": [],
   "source": [
    "skl."
   ]
  },
  {
   "cell_type": "markdown",
   "metadata": {},
   "source": [
    "# Packages\n",
    "\n",
    "* A _package_ is a directory containing python _modules_.\n",
    "* It must have a (possibly empty) ** \\_\\_init\\_\\_.py ** script that serves as directory level's module namespace.\n",
    "* The ** \\_\\_init\\_\\_.py ** script will be executed on the first import through the directory and all names assigned in it will become attributes of the directory's module object\n",
    "* An import of the form **import dir1.dir2.pyscript** will load the module file at directory path _dir1/dir2/pyscript.py_"
   ]
  },
  {
   "cell_type": "markdown",
   "metadata": {},
   "source": [
    "# Search Path for _import_\n",
    "\n",
    "* **import** uses **sys.path** as module import search path\n",
    "* **sys.path** is a directory list initialized from the program's top-level directory, **PYTHONPATH** settings, **.pth** path file contents and python defaults\n",
    "* **PYTHONPATH** is an environment variable that is added to the search path. It can be set/modified before you run your Python program\n",
    "* **.pth** files are simple files with a directory per line. Those directories will be added to **sys.path**"
   ]
  },
  {
   "cell_type": "code",
   "execution_count": 2,
   "metadata": {
    "collapsed": false
   },
   "outputs": [
    {
     "data": {
      "text/plain": [
       "['',\n",
       " '//anaconda/lib/python27.zip',\n",
       " '//anaconda/lib/python2.7',\n",
       " '//anaconda/lib/python2.7/plat-darwin',\n",
       " '//anaconda/lib/python2.7/plat-mac',\n",
       " '//anaconda/lib/python2.7/plat-mac/lib-scriptpackages',\n",
       " '//anaconda/lib/python2.7/lib-tk',\n",
       " '//anaconda/lib/python2.7/lib-old',\n",
       " '//anaconda/lib/python2.7/lib-dynload',\n",
       " '/anaconda/lib/python2.7/site-packages/Sphinx-1.3.1-py2.7.egg',\n",
       " '/anaconda/lib/python2.7/site-packages/setuptools-17.1.1-py2.7.egg',\n",
       " '//anaconda/lib/python2.7/site-packages',\n",
       " '//anaconda/lib/python2.7/site-packages/PIL',\n",
       " '//anaconda/lib/python2.7/site-packages/aeosa',\n",
       " '//anaconda/lib/python2.7/site-packages/IPython/extensions']"
      ]
     },
     "execution_count": 2,
     "metadata": {},
     "output_type": "execute_result"
    }
   ],
   "source": [
    "import sys\n",
    "sys.path"
   ]
  },
  {
   "cell_type": "code",
   "execution_count": 3,
   "metadata": {
    "collapsed": false
   },
   "outputs": [
    {
     "data": {
      "text/plain": [
       "list"
      ]
     },
     "execution_count": 3,
     "metadata": {},
     "output_type": "execute_result"
    }
   ],
   "source": [
    "type(sys.path)"
   ]
  },
  {
   "cell_type": "markdown",
   "metadata": {},
   "source": [
    "# Object Oriented Programming\n",
    "\n",
    "* Python support object oriented programming by using the keyword **class**.\n",
    "* Access modifiers (public, private, protected) are not enforced by the language. Remember, we are all adults.\n",
    "* Python supports multiple inheritance\n",
    "* Full polymorphism support \n",
    "* Class' members are declared inside the **class** scope\n",
    "* Instance members are accessed using keyword **self**.\n",
    "* Members not accessed using **self** are Class' members (shared among all Class' instances). "
   ]
  },
  {
   "cell_type": "markdown",
   "metadata": {},
   "source": [
    "# Classes\n",
    "\n",
    "There are two ways to declare classes in Python 2.x. We are going to use new-style classes:\n",
    "\n",
    "    # new-style classes\n",
    "    class Shape(object):\n",
    "        common = \"EVERYBODY\"\n",
    "\n",
    "        def __init__(self, name):\n",
    "            self.name = name\n",
    "\n",
    "        def whoami(self):\n",
    "            print \"I'm a shape: {0}\".format(self.name)\n",
    "\n",
    "        def anything_else(self):\n",
    "            print \"nothing\"\n",
    " \n",
    "* Class _Shape_ inherits from class _object_. This is the parent class of all new-style classes.\n",
    "* It has two methods _whoami_ and _anything_else_\n",
    "* The special method __init__ is the constructor.\n",
    "* Notice all methods have as first parameter, **self**."
   ]
  },
  {
   "cell_type": "code",
   "execution_count": 1,
   "metadata": {
    "collapsed": false
   },
   "outputs": [],
   "source": [
    "class Shape(object):\n",
    "    \"\"\"\n",
    "    Shape class\n",
    "    \"\"\"\n",
    "    common = \"EVERYBODY\"\n",
    "\n",
    "    def __init__(self, bla):\n",
    "        \"\"\"\n",
    "        Constructor\n",
    "        \"\"\"\n",
    "        self.name = bla\n",
    "\n",
    "    def whoami(self):\n",
    "        \"\"\"\n",
    "        Prints who I am\n",
    "        \"\"\"\n",
    "        print self.__str__()\n",
    "\n",
    "    def anything_else(self):\n",
    "        \"\"\"\n",
    "        Another method...\n",
    "        \"\"\"\n",
    "        print \"nothing\"\n",
    "    \n",
    "    def __str__(self):\n",
    "        \"\"\"\n",
    "        String representation\n",
    "        \"\"\"\n",
    "        return \"I'm a shape: {0}\".format(self.name)\n",
    "    \n",
    "    def __repr__(self):\n",
    "        return \"Internal representation {0}\".format(self.name)\n",
    "    \n",
    "    def llll(this):\n",
    "        this.last = \"ledon\""
   ]
  },
  {
   "cell_type": "code",
   "execution_count": 2,
   "metadata": {
    "collapsed": false
   },
   "outputs": [],
   "source": [
    "xx = Shape(\"Red\")"
   ]
  },
  {
   "cell_type": "code",
   "execution_count": 3,
   "metadata": {
    "collapsed": false
   },
   "outputs": [],
   "source": [
    "xx.llll()"
   ]
  },
  {
   "cell_type": "code",
   "execution_count": 4,
   "metadata": {
    "collapsed": false
   },
   "outputs": [
    {
     "data": {
      "text/plain": [
       "'ledon'"
      ]
     },
     "execution_count": 4,
     "metadata": {},
     "output_type": "execute_result"
    }
   ],
   "source": [
    "xx.last"
   ]
  },
  {
   "cell_type": "code",
   "execution_count": 5,
   "metadata": {
    "collapsed": false
   },
   "outputs": [
    {
     "name": "stdout",
     "output_type": "stream",
     "text": [
      "I'm a shape: Red\n"
     ]
    }
   ],
   "source": [
    "print xx"
   ]
  },
  {
   "cell_type": "code",
   "execution_count": 8,
   "metadata": {
    "collapsed": false
   },
   "outputs": [
    {
     "name": "stdout",
     "output_type": "stream",
     "text": [
      "I'm a shape: Red\n"
     ]
    }
   ],
   "source": [
    "xx.whoami()"
   ]
  },
  {
   "cell_type": "code",
   "execution_count": 6,
   "metadata": {
    "collapsed": false
   },
   "outputs": [
    {
     "data": {
      "text/plain": [
       "Internal representation Red"
      ]
     },
     "execution_count": 6,
     "metadata": {},
     "output_type": "execute_result"
    }
   ],
   "source": [
    "xx"
   ]
  },
  {
   "cell_type": "code",
   "execution_count": 10,
   "metadata": {
    "collapsed": false
   },
   "outputs": [
    {
     "data": {
      "text/plain": [
       "'EVERYBODY'"
      ]
     },
     "execution_count": 10,
     "metadata": {},
     "output_type": "execute_result"
    }
   ],
   "source": [
    "xx.common"
   ]
  },
  {
   "cell_type": "code",
   "execution_count": 9,
   "metadata": {
    "collapsed": false
   },
   "outputs": [
    {
     "data": {
      "text/plain": [
       "'EVERYBODY'"
      ]
     },
     "execution_count": 9,
     "metadata": {},
     "output_type": "execute_result"
    }
   ],
   "source": [
    "Shape.common"
   ]
  },
  {
   "cell_type": "code",
   "execution_count": 11,
   "metadata": {
    "collapsed": false
   },
   "outputs": [
    {
     "name": "stdout",
     "output_type": "stream",
     "text": [
      "nothing\n"
     ]
    }
   ],
   "source": [
    "xx.anything_else()"
   ]
  },
  {
   "cell_type": "code",
   "execution_count": 12,
   "metadata": {
    "collapsed": false
   },
   "outputs": [
    {
     "data": {
      "text/plain": [
       "'Red'"
      ]
     },
     "execution_count": 12,
     "metadata": {},
     "output_type": "execute_result"
    }
   ],
   "source": [
    "xx.name"
   ]
  },
  {
   "cell_type": "code",
   "execution_count": 13,
   "metadata": {
    "collapsed": false
   },
   "outputs": [],
   "source": [
    "xx.foo = 34"
   ]
  },
  {
   "cell_type": "code",
   "execution_count": 14,
   "metadata": {
    "collapsed": false
   },
   "outputs": [
    {
     "data": {
      "text/plain": [
       "34"
      ]
     },
     "execution_count": 14,
     "metadata": {},
     "output_type": "execute_result"
    }
   ],
   "source": [
    "xx.foo"
   ]
  },
  {
   "cell_type": "markdown",
   "metadata": {},
   "source": [
    "# Inheritance and Polymorphism\n",
    "\n",
    "* Python supports single and multiple inheritance. \n",
    "* You only need to specify in the class declaration inside parenthesis who the parent class(es) is(are).\n",
    "* All the ancestors' members (including the constructor) can be accessed using the built-in function **super(...)**\n",
    "* Multiple inheritance follows the [C3 Method Resolution Order ](http://www.python.org/download/releases/2.3/mro/)"
   ]
  },
  {
   "cell_type": "code",
   "execution_count": 17,
   "metadata": {
    "collapsed": false
   },
   "outputs": [],
   "source": [
    "class Circle(Shape):\n",
    "\n",
    "    def __init__(self, name, radius):\n",
    "        super(Circle, self).__init__(name)\n",
    "        self.radius = radius\n",
    "\n",
    "    def anything_else(self):\n",
    "        print \"I have area = {0}\".format(3.14159 * self.radius)\n",
    "\n",
    "def playing(something):\n",
    "    something.whoami()\n",
    "    something.anything_else()"
   ]
  },
  {
   "cell_type": "code",
   "execution_count": 18,
   "metadata": {
    "collapsed": true
   },
   "outputs": [],
   "source": [
    "rr = Shape(\"Red\")"
   ]
  },
  {
   "cell_type": "code",
   "execution_count": 19,
   "metadata": {
    "collapsed": false
   },
   "outputs": [],
   "source": [
    "cc = Circle(\"Blue\", 4.)"
   ]
  },
  {
   "cell_type": "code",
   "execution_count": 20,
   "metadata": {
    "collapsed": false
   },
   "outputs": [
    {
     "name": "stdout",
     "output_type": "stream",
     "text": [
      "I'm a shape: Red\n",
      "nothing\n"
     ]
    }
   ],
   "source": [
    "playing(rr)"
   ]
  },
  {
   "cell_type": "code",
   "execution_count": 21,
   "metadata": {
    "collapsed": false
   },
   "outputs": [
    {
     "name": "stdout",
     "output_type": "stream",
     "text": [
      "I'm a shape: Blue\n",
      "I have area = 12.56636\n"
     ]
    }
   ],
   "source": [
    "playing(cc)"
   ]
  },
  {
   "cell_type": "markdown",
   "metadata": {},
   "source": [
    "# Duck Typing\n",
    "\n",
    "* Python's object system exhibit a behavior called _duck typing_. \n",
    "* \"If walks like a duck, and quacks like a duck, it must be a duck.\"\n",
    "* This is how polymorphism is really implemented. "
   ]
  },
  {
   "cell_type": "code",
   "execution_count": 22,
   "metadata": {
    "collapsed": false
   },
   "outputs": [],
   "source": [
    "class Howard(object):\n",
    "\n",
    "    def whoami(self):\n",
    "        print \"I'm Howard\"\n",
    "\n",
    "    def anything_else(self):\n",
    "        print \"Don't know Howard? Howard the Duck\""
   ]
  },
  {
   "cell_type": "code",
   "execution_count": null,
   "metadata": {
    "collapsed": false
   },
   "outputs": [],
   "source": [
    "playing(\"alain\")"
   ]
  },
  {
   "cell_type": "code",
   "execution_count": 24,
   "metadata": {
    "collapsed": false
   },
   "outputs": [
    {
     "name": "stdout",
     "output_type": "stream",
     "text": [
      "----------------\n",
      "I'm a shape: Red\n",
      "nothing\n",
      "----------------\n",
      "I'm a shape: Blue\n",
      "I have area = 12.56636\n",
      "----------------\n",
      "I'm Howard\n",
      "Don't know Howard? Howard the Duck\n"
     ]
    }
   ],
   "source": [
    "dd = Howard()\n",
    "print \"----------------\"\n",
    "playing(rr)\n",
    "print \"----------------\"\n",
    "playing(cc)\n",
    "print \"----------------\"\n",
    "playing(dd)"
   ]
  },
  {
   "cell_type": "markdown",
   "metadata": {},
   "source": [
    "# Duck Typing\n",
    "\n",
    "* The last class _Howard_ is not part of the inheritance tree but it still works\n",
    "* [Howard the Duck on Wikipedia](http://goo.gl/ch0oH)"
   ]
  },
  {
   "cell_type": "code",
   "execution_count": 25,
   "metadata": {
    "collapsed": false
   },
   "outputs": [
    {
     "data": {
      "image/jpeg": "[encoded data removed]",
      "text/plain": [
       "<IPython.core.display.Image object>"
      ]
     },
     "execution_count": 25,
     "metadata": {},
     "output_type": "execute_result"
    }
   ],
   "source": [
    "from IPython.display import Image\n",
    "Image(\"Howard_the_Duck.jpg\")"
   ]
  },
  {
   "cell_type": "markdown",
   "metadata": {},
   "source": [
    "# Special Method Names\n",
    "\n",
    "* A class can implement certain operations that are invoked by special syntax (such as arithmetic operations or subscripting and slicing) by defining methods with special names. \n",
    "* This is Python's approach to operator overloading. \n",
    "* When implementing a class that emulates any built-in type, it is important that the emulation only be implemented to the degree that it makes sense for the object being modelled. \n",
    "* Notice, operator overloading can obscure your code. Make sure it makes sense to implement the special methods."
   ]
  },
  {
   "cell_type": "markdown",
   "metadata": {},
   "source": [
    "# Special Method Names (cont.)\n",
    "\n",
    "* **\\_\\_repr\\_\\_(self)** for _repr()_ and _`...`_ conversions (used by debuggers).\n",
    "* **\\_\\_str\\_\\_(self)**  for _str()_ and _print_ statement.\n",
    "* **\\_\\_lt\\_\\_(self, other)** Called for self < other comparisons.  \n",
    "* **\\_\\_gt\\_\\_(self, other)** Called for self > other comparisons. \n",
    "* **\\_\\_eq\\_\\_(self, other)** Called for self == other comparisons. \n",
    "* **\\_\\_ne\\_\\_(self, other)** Called for self != other (and self <> other) comparisons. \n",
    "* **\\_\\_call\\_\\_(self, *args, **kwargs)** Called when an instance is called as function: obj(...) \n",
    "* and much more...\n",
    "* [Python Special Method Names](http://docs.python.org/reference/datamodel.html#special-method-names)\n",
    "* [More Python Special Method Names](http://rgruet.free.fr/PQR26/PQR2.6.html#SpecialMethods)"
   ]
  },
  {
   "cell_type": "code",
   "execution_count": 27,
   "metadata": {
    "collapsed": false
   },
   "outputs": [],
   "source": [
    "class BaseBallPlayer(object):\n",
    "\n",
    "    def __init__(self, name, knick, rings):\n",
    "        self.name = name\n",
    "        self.knick = knick\n",
    "        self.rings = rings\n",
    "            \n",
    "    def __str__(self):\n",
    "        return \"I'm {0}\".format(self.knick)\n",
    "\n",
    "    def __repr__(self):\n",
    "        return \"I'm a baseball player named {0}. They called me {1}\".format(self.name, self.knick)\n",
    "        \n",
    "    def __gt__(self, other):\n",
    "        return self.rings > other.rings\n",
    "        \n",
    "    def __lt__(self, other):\n",
    "        return self.rings < other.rings\n",
    "        \n",
    "    def __eq__(self, other):\n",
    "        return self.rings == other.rings\n",
    "\n",
    "    def __ne__(self, other):\n",
    "        return not self.__eq__(other)\n",
    "        \n",
    "    def __ge__(self, other):\n",
    "        return self.__gt__(other) or self.__eq__(other)  \n",
    "\n",
    "    def __len__(self):\n",
    "        return self.rings \n"
   ]
  },
  {
   "cell_type": "code",
   "execution_count": 28,
   "metadata": {
    "collapsed": false
   },
   "outputs": [],
   "source": [
    "d = BaseBallPlayer(\"DJ\", \"The Captain\", 5)\n",
    "a = BaseBallPlayer(\"ARod\", \"Pretty Boy\", 1)\n",
    "y = BaseBallPlayer(\"Berra\", \"Yogi\", 13)"
   ]
  },
  {
   "cell_type": "code",
   "execution_count": 29,
   "metadata": {
    "collapsed": false
   },
   "outputs": [
    {
     "data": {
      "text/plain": [
       "I'm a baseball player named ARod. They called me Pretty Boy"
      ]
     },
     "execution_count": 29,
     "metadata": {},
     "output_type": "execute_result"
    }
   ],
   "source": [
    "a"
   ]
  },
  {
   "cell_type": "code",
   "execution_count": 30,
   "metadata": {
    "collapsed": false
   },
   "outputs": [
    {
     "data": {
      "text/plain": [
       "I'm a baseball player named DJ. They called me The Captain"
      ]
     },
     "execution_count": 30,
     "metadata": {},
     "output_type": "execute_result"
    }
   ],
   "source": [
    "d"
   ]
  },
  {
   "cell_type": "code",
   "execution_count": 31,
   "metadata": {
    "collapsed": false
   },
   "outputs": [
    {
     "data": {
      "text/plain": [
       "I'm a baseball player named Berra. They called me Yogi"
      ]
     },
     "execution_count": 31,
     "metadata": {},
     "output_type": "execute_result"
    }
   ],
   "source": [
    "y"
   ]
  },
  {
   "cell_type": "code",
   "execution_count": 32,
   "metadata": {
    "collapsed": false
   },
   "outputs": [
    {
     "data": {
      "text/plain": [
       "False"
      ]
     },
     "execution_count": 32,
     "metadata": {},
     "output_type": "execute_result"
    }
   ],
   "source": [
    "a > y"
   ]
  },
  {
   "cell_type": "code",
   "execution_count": 33,
   "metadata": {
    "collapsed": false
   },
   "outputs": [
    {
     "data": {
      "text/plain": [
       "True"
      ]
     },
     "execution_count": 33,
     "metadata": {},
     "output_type": "execute_result"
    }
   ],
   "source": [
    "y > d"
   ]
  },
  {
   "cell_type": "code",
   "execution_count": 34,
   "metadata": {
    "collapsed": false
   },
   "outputs": [
    {
     "data": {
      "text/plain": [
       "13"
      ]
     },
     "execution_count": 34,
     "metadata": {},
     "output_type": "execute_result"
    }
   ],
   "source": [
    "len(y)"
   ]
  },
  {
   "cell_type": "code",
   "execution_count": 35,
   "metadata": {
    "collapsed": false
   },
   "outputs": [
    {
     "data": {
      "text/plain": [
       "1"
      ]
     },
     "execution_count": 35,
     "metadata": {},
     "output_type": "execute_result"
    }
   ],
   "source": [
    "len(a)"
   ]
  },
  {
   "cell_type": "code",
   "execution_count": 36,
   "metadata": {
    "collapsed": false
   },
   "outputs": [],
   "source": [
    "# Better implementation\n",
    "from functools import total_ordering\n",
    "\n",
    "@total_ordering\n",
    "class BetterBBPlayer(object):\n",
    "    def __init__(self, name, knick, rings):\n",
    "        self.name = name\n",
    "        self.knick = knick\n",
    "        self.rings = rings\n",
    "            \n",
    "    def __str__(self):\n",
    "        return \"I'm {0}\".format(self.knick)\n",
    "\n",
    "    def __repr__(self):\n",
    "        return \"I'm a baseball player named {0}, knicknamed {1}\".format(self.name, self.knick)\n",
    "        \n",
    "    def __lt__(self, other):\n",
    "        return self.rings < other.rings\n",
    "        \n",
    "    def __eq__(self, other):\n",
    "        return self.rings == other.rings\n",
    "\n",
    "    def __len__(self):\n",
    "        return self.rings "
   ]
  },
  {
   "cell_type": "code",
   "execution_count": 37,
   "metadata": {
    "collapsed": false
   },
   "outputs": [],
   "source": [
    "p = BaseBallPlayer(\"Pettite\", \"Dandy\", 5)\n",
    "al = BaseBallPlayer(\"Albert\", \"The Horse\", 2)"
   ]
  },
  {
   "cell_type": "code",
   "execution_count": 38,
   "metadata": {
    "collapsed": false
   },
   "outputs": [
    {
     "data": {
      "text/plain": [
       "I'm a baseball player named Pettite. They called me Dandy"
      ]
     },
     "execution_count": 38,
     "metadata": {},
     "output_type": "execute_result"
    }
   ],
   "source": [
    "p"
   ]
  },
  {
   "cell_type": "code",
   "execution_count": 39,
   "metadata": {
    "collapsed": false
   },
   "outputs": [
    {
     "data": {
      "text/plain": [
       "I'm a baseball player named Albert. They called me The Horse"
      ]
     },
     "execution_count": 39,
     "metadata": {},
     "output_type": "execute_result"
    }
   ],
   "source": [
    "al"
   ]
  },
  {
   "cell_type": "code",
   "execution_count": 40,
   "metadata": {
    "collapsed": false
   },
   "outputs": [
    {
     "data": {
      "text/plain": [
       "True"
      ]
     },
     "execution_count": 40,
     "metadata": {},
     "output_type": "execute_result"
    }
   ],
   "source": [
    "p > al"
   ]
  },
  {
   "cell_type": "code",
   "execution_count": 6,
   "metadata": {
    "collapsed": false
   },
   "outputs": [
    {
     "ename": "NameError",
     "evalue": "name 'foo' is not defined",
     "output_type": "error",
     "traceback": [
      "\u001b[0;31m---------------------------------------------------------------------------\u001b[0m",
      "\u001b[0;31mNameError\u001b[0m                                 Traceback (most recent call last)",
      "\u001b[0;32m<ipython-input-6-84028f9bf426>\u001b[0m in \u001b[0;36m<module>\u001b[0;34m()\u001b[0m\n\u001b[0;32m----> 1\u001b[0;31m \u001b[0;32mprint\u001b[0m \u001b[0mfoo\u001b[0m\u001b[0;34m(\u001b[0m\u001b[0;34m)\u001b[0m\u001b[0;34m\u001b[0m\u001b[0m\n\u001b[0m",
      "\u001b[0;31mNameError\u001b[0m: name 'foo' is not defined"
     ]
    }
   ],
   "source": [
    "print foo()"
   ]
  },
  {
   "cell_type": "code",
   "execution_count": 41,
   "metadata": {
    "collapsed": false
   },
   "outputs": [],
   "source": [
    "def bar(x, l=[]):\n",
    "    l.append(x)\n",
    "    return l"
   ]
  },
  {
   "cell_type": "code",
   "execution_count": 42,
   "metadata": {
    "collapsed": false
   },
   "outputs": [
    {
     "data": {
      "text/plain": [
       "[5]"
      ]
     },
     "execution_count": 42,
     "metadata": {},
     "output_type": "execute_result"
    }
   ],
   "source": [
    "ll = bar(5)\n",
    "ll"
   ]
  },
  {
   "cell_type": "code",
   "execution_count": 43,
   "metadata": {
    "collapsed": false
   },
   "outputs": [],
   "source": [
    "ll.append(10)"
   ]
  },
  {
   "cell_type": "code",
   "execution_count": 44,
   "metadata": {
    "collapsed": false
   },
   "outputs": [
    {
     "data": {
      "text/plain": [
       "[5, 10]"
      ]
     },
     "execution_count": 44,
     "metadata": {},
     "output_type": "execute_result"
    }
   ],
   "source": [
    "ll"
   ]
  },
  {
   "cell_type": "code",
   "execution_count": 45,
   "metadata": {
    "collapsed": false
   },
   "outputs": [],
   "source": [
    "b = bar(3)"
   ]
  },
  {
   "cell_type": "code",
   "execution_count": 46,
   "metadata": {
    "collapsed": false
   },
   "outputs": [
    {
     "data": {
      "text/plain": [
       "[5, 10, 3]"
      ]
     },
     "execution_count": 46,
     "metadata": {},
     "output_type": "execute_result"
    }
   ],
   "source": [
    "b"
   ]
  },
  {
   "cell_type": "code",
   "execution_count": null,
   "metadata": {
    "collapsed": false
   },
   "outputs": [],
   "source": [
    "ll"
   ]
  },
  {
   "cell_type": "code",
   "execution_count": null,
   "metadata": {
    "collapsed": false
   },
   "outputs": [],
   "source": []
  }
 ],
 "metadata": {
  "kernelspec": {
   "display_name": "Python 2",
   "language": "python",
   "name": "python2"
  },
  "language_info": {
   "codemirror_mode": {
    "name": "ipython",
    "version": 2
   },
   "file_extension": ".py",
   "mimetype": "text/x-python",
   "name": "python",
   "nbconvert_exporter": "python",
   "pygments_lexer": "ipython2",
   "version": "2.7.13"
  }
 },
 "nbformat": 4,
 "nbformat_minor": 0
}
