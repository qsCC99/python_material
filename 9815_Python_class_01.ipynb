{
 "cells": [
  {
   "cell_type": "markdown",
   "metadata": {},
   "source": [
    "# MFE 9815 - Software Engineering in Finance\n",
    "\n",
    "## Fall 2016 - Python Class - Part 1\n",
    "\n",
    "### Alain Ledon"
   ]
  },
  {
   "cell_type": "markdown",
   "metadata": {},
   "source": [
    "## Today We'll Cover\n",
    "\n",
    "* Python Language Basics\n",
    "* Package System\n",
    "* Python Shells\n"
   ]
  },
  {
   "cell_type": "markdown",
   "metadata": {},
   "source": [
    "# An Interactive Shell\n",
    "\n",
    "## Three common interactive python shells\n",
    "\n",
    "* python\n",
    "* [bpython](http://bpython-interpreter.org/)\n",
    "* [IPython](http://ipython.org/)\n",
    "* [IPyhon Notebook](http://ipython.org/notebook.html)\n",
    "\n",
    "## How to install and run\n",
    "\n",
    "    # To install bpython and IPython - Part of First Installation\n",
    "    > sudo apt-get install bpython\n",
    "    > sudo apt-get install ipython\n",
    "    # to start bpython/IPython\n",
    "    > ./bpython\n",
    "    >>> import this\n",
    "    > ./ipython\n",
    "    \n",
    "\n",
    "This is known as [Read Eval Print Loop](http://en.wikipedia.org/wiki/Read%E2%80%93eval%E2%80%93print_loop) (REPL). **You'll get immediate feedback.**"
   ]
  },
  {
   "cell_type": "code",
   "execution_count": 1,
   "metadata": {
    "collapsed": false
   },
   "outputs": [
    {
     "name": "stdout",
     "output_type": "stream",
     "text": [
      "Alain\n"
     ]
    }
   ],
   "source": [
    "print \"Alain\""
   ]
  },
  {
   "cell_type": "code",
   "execution_count": 2,
   "metadata": {
    "collapsed": false
   },
   "outputs": [
    {
     "name": "stdout",
     "output_type": "stream",
     "text": [
      "The Zen of Python, by Tim Peters\n",
      "\n",
      "Beautiful is better than ugly.\n",
      "Explicit is better than implicit.\n",
      "Simple is better than complex.\n",
      "Complex is better than complicated.\n",
      "Flat is better than nested.\n",
      "Sparse is better than dense.\n",
      "Readability counts.\n",
      "Special cases aren't special enough to break the rules.\n",
      "Although practicality beats purity.\n",
      "Errors should never pass silently.\n",
      "Unless explicitly silenced.\n",
      "In the face of ambiguity, refuse the temptation to guess.\n",
      "There should be one-- and preferably only one --obvious way to do it.\n",
      "Although that way may not be obvious at first unless you're Dutch.\n",
      "Now is better than never.\n",
      "Although never is often better than *right* now.\n",
      "If the implementation is hard to explain, it's a bad idea.\n",
      "If the implementation is easy to explain, it may be a good idea.\n",
      "Namespaces are one honking great idea -- let's do more of those!\n"
     ]
    }
   ],
   "source": [
    "import this"
   ]
  },
  {
   "cell_type": "markdown",
   "metadata": {},
   "source": [
    "# Python Type System\n",
    "\n",
    "## Python is an extremely versatile, multi-paradigm language\n",
    "\n",
    "* It is dynamic - _variables may be declared without a type_\n",
    "* Typing is strong - _restricts how operations involving different types can be combined_\n",
    "* Python is case-sensitive `myvar` and `MYVAR` are distinct.\n",
    "\n",
    "[Python website](http://www.python.org)"
   ]
  },
  {
   "cell_type": "code",
   "execution_count": 4,
   "metadata": {
    "collapsed": false
   },
   "outputs": [
    {
     "name": "stdout",
     "output_type": "stream",
     "text": [
      "This is a string 213 213 another string\n"
     ]
    }
   ],
   "source": [
    "mystr = \"this is a string\"\n",
    "another_string = 'another string'\n",
    "mynum = 213\n",
    "print \"{1} {0} {3} {2}\".format(mynum, mystr.capitalize(), another_string, mystr)"
   ]
  },
  {
   "cell_type": "code",
   "execution_count": 9,
   "metadata": {
    "collapsed": false
   },
   "outputs": [
    {
     "data": {
      "text/plain": [
       "int"
      ]
     },
     "execution_count": 9,
     "metadata": {},
     "output_type": "execute_result"
    }
   ],
   "source": [
    "type(mynum)"
   ]
  },
  {
   "cell_type": "code",
   "execution_count": 15,
   "metadata": {
    "collapsed": false
   },
   "outputs": [
    {
     "name": "stdout",
     "output_type": "stream",
     "text": [
      "this is a string 213 123.0 a string True 12\n"
     ]
    }
   ],
   "source": [
    "mystr = \"this is a string\"\n",
    "mynum = 213\n",
    "a = 123.0\n",
    "b = \"a string\"\n",
    "c = True\n",
    "d = 12L\n",
    "print mystr, mynum, a, b, c, d"
   ]
  },
  {
   "cell_type": "code",
   "execution_count": 19,
   "metadata": {
    "collapsed": false
   },
   "outputs": [
    {
     "ename": "TypeError",
     "evalue": "unsupported operand type(s) for +: 'float' and 'str'",
     "output_type": "error",
     "traceback": [
      "\u001b[0;31m---------------------------------------------------------------------------\u001b[0m",
      "\u001b[0;31mTypeError\u001b[0m                                 Traceback (most recent call last)",
      "\u001b[0;32m<ipython-input-19-2571c1c27d98>\u001b[0m in \u001b[0;36m<module>\u001b[0;34m()\u001b[0m\n\u001b[0;32m----> 1\u001b[0;31m \u001b[0ma\u001b[0m \u001b[0;34m+\u001b[0m \u001b[0mmystr\u001b[0m\u001b[0;34m\u001b[0m\u001b[0m\n\u001b[0m",
      "\u001b[0;31mTypeError\u001b[0m: unsupported operand type(s) for +: 'float' and 'str'"
     ]
    }
   ],
   "source": [
    "a + mystr"
   ]
  },
  {
   "cell_type": "code",
   "execution_count": 16,
   "metadata": {
    "collapsed": false
   },
   "outputs": [
    {
     "name": "stdout",
     "output_type": "stream",
     "text": [
      "a string\n",
      "123.0\n",
      "123.0\n"
     ]
    }
   ],
   "source": [
    "print b\n",
    "print a\n",
    "b = a\n",
    "print b"
   ]
  },
  {
   "cell_type": "markdown",
   "metadata": {},
   "source": [
    "# Comparison of Type Systems*\n",
    "\n",
    "[Type systems](http://en.wikipedia.org/wiki/Type_system)\n",
    "\n",
    "## C++ and Java\n",
    "<font color=\"maroon\">Static and Strong</font>\n",
    "\n",
    "## Python\n",
    "<font color=\"navy\">Dynamic and Strong</font>\n",
    "\n",
    "## Our selection of languages was not arbitrary.\n",
    "\n",
    "Large systems with large teams tend to use staticly typed languages.\n",
    "\n",
    "_But you will rarely build large, complex system._\n",
    "\n",
    "More often, you'll _interact_ with large, complex systems:\n",
    "\n",
    "* Operating System and Libraries\n",
    "* Servers on LAN and Internet\n"
   ]
  },
  {
   "cell_type": "markdown",
   "metadata": {},
   "source": [
    "# Help\n",
    "## Documentation available"
   ]
  },
  {
   "cell_type": "code",
   "execution_count": 2,
   "metadata": {
    "collapsed": false
   },
   "outputs": [
    {
     "name": "stdout",
     "output_type": "stream",
     "text": [
      "Help on module os:\n",
      "\n",
      "NAME\n",
      "    os - OS routines for NT or Posix depending on what system we're on.\n",
      "\n",
      "FILE\n",
      "    /Users/hlzswbc/anaconda/lib/python2.7/os.py\n",
      "\n",
      "MODULE DOCS\n",
      "    http://docs.python.org/library/os\n",
      "\n",
      "DESCRIPTION\n",
      "    This exports:\n",
      "      - all functions from posix, nt, os2, or ce, e.g. unlink, stat, etc.\n",
      "      - os.path is one of the modules posixpath, or ntpath\n",
      "      - os.name is 'posix', 'nt', 'os2', 'ce' or 'riscos'\n",
      "      - os.curdir is a string representing the current directory ('.' or ':')\n",
      "      - os.pardir is a string representing the parent directory ('..' or '::')\n",
      "      - os.sep is the (or a most common) pathname separator ('/' or ':' or '\\\\')\n",
      "      - os.extsep is the extension separator ('.' or '/')\n",
      "      - os.altsep is the alternate pathname separator (None or '/')\n",
      "      - os.pathsep is the component separator used in $PATH etc\n",
      "      - os.linesep is the line separator in text files ('\\r' or '\\n' or '\\r\\n')\n",
      "      - os.defpath is the default search path for executables\n",
      "      - os.devnull is the file path of the null device ('/dev/null', etc.)\n",
      "    \n",
      "    Programs that import and use 'os' stand a better chance of being\n",
      "    portable between different platforms.  Of course, they must then\n",
      "    only use functions that are defined by all platforms (e.g., unlink\n",
      "    and opendir), and leave all pathname manipulation to os.path\n",
      "    (e.g., split and join).\n",
      "\n",
      "CLASSES\n",
      "    __builtin__.object\n",
      "        posix.stat_result\n",
      "        posix.statvfs_result\n",
      "    exceptions.EnvironmentError(exceptions.StandardError)\n",
      "        exceptions.OSError\n",
      "    \n",
      "    error = class OSError(EnvironmentError)\n",
      "     |  OS system call failed.\n",
      "     |  \n",
      "     |  Method resolution order:\n",
      "     |      OSError\n",
      "     |      EnvironmentError\n",
      "     |      StandardError\n",
      "     |      Exception\n",
      "     |      BaseException\n",
      "     |      __builtin__.object\n",
      "     |  \n",
      "     |  Methods defined here:\n",
      "     |  \n",
      "     |  __init__(...)\n",
      "     |      x.__init__(...) initializes x; see help(type(x)) for signature\n",
      "     |  \n",
      "     |  ----------------------------------------------------------------------\n",
      "     |  Data and other attributes defined here:\n",
      "     |  \n",
      "     |  __new__ = <built-in method __new__ of type object>\n",
      "     |      T.__new__(S, ...) -> a new object with type S, a subtype of T\n",
      "     |  \n",
      "     |  ----------------------------------------------------------------------\n",
      "     |  Methods inherited from EnvironmentError:\n",
      "     |  \n",
      "     |  __reduce__(...)\n",
      "     |  \n",
      "     |  __str__(...)\n",
      "     |      x.__str__() <==> str(x)\n",
      "     |  \n",
      "     |  ----------------------------------------------------------------------\n",
      "     |  Data descriptors inherited from EnvironmentError:\n",
      "     |  \n",
      "     |  errno\n",
      "     |      exception errno\n",
      "     |  \n",
      "     |  filename\n",
      "     |      exception filename\n",
      "     |  \n",
      "     |  strerror\n",
      "     |      exception strerror\n",
      "     |  \n",
      "     |  ----------------------------------------------------------------------\n",
      "     |  Methods inherited from BaseException:\n",
      "     |  \n",
      "     |  __delattr__(...)\n",
      "     |      x.__delattr__('name') <==> del x.name\n",
      "     |  \n",
      "     |  __getattribute__(...)\n",
      "     |      x.__getattribute__('name') <==> x.name\n",
      "     |  \n",
      "     |  __getitem__(...)\n",
      "     |      x.__getitem__(y) <==> x[y]\n",
      "     |  \n",
      "     |  __getslice__(...)\n",
      "     |      x.__getslice__(i, j) <==> x[i:j]\n",
      "     |      \n",
      "     |      Use of negative indices is not supported.\n",
      "     |  \n",
      "     |  __repr__(...)\n",
      "     |      x.__repr__() <==> repr(x)\n",
      "     |  \n",
      "     |  __setattr__(...)\n",
      "     |      x.__setattr__('name', value) <==> x.name = value\n",
      "     |  \n",
      "     |  __setstate__(...)\n",
      "     |  \n",
      "     |  __unicode__(...)\n",
      "     |  \n",
      "     |  ----------------------------------------------------------------------\n",
      "     |  Data descriptors inherited from BaseException:\n",
      "     |  \n",
      "     |  __dict__\n",
      "     |  \n",
      "     |  args\n",
      "     |  \n",
      "     |  message\n",
      "    \n",
      "    class stat_result(__builtin__.object)\n",
      "     |  stat_result: Result from stat or lstat.\n",
      "     |  \n",
      "     |  This object may be accessed either as a tuple of\n",
      "     |    (mode, ino, dev, nlink, uid, gid, size, atime, mtime, ctime)\n",
      "     |  or via the attributes st_mode, st_ino, st_dev, st_nlink, st_uid, and so on.\n",
      "     |  \n",
      "     |  Posix/windows: If your platform supports st_blksize, st_blocks, st_rdev,\n",
      "     |  or st_flags, they are available as attributes only.\n",
      "     |  \n",
      "     |  See os.stat for more information.\n",
      "     |  \n",
      "     |  Methods defined here:\n",
      "     |  \n",
      "     |  __add__(...)\n",
      "     |      x.__add__(y) <==> x+y\n",
      "     |  \n",
      "     |  __contains__(...)\n",
      "     |      x.__contains__(y) <==> y in x\n",
      "     |  \n",
      "     |  __eq__(...)\n",
      "     |      x.__eq__(y) <==> x==y\n",
      "     |  \n",
      "     |  __ge__(...)\n",
      "     |      x.__ge__(y) <==> x>=y\n",
      "     |  \n",
      "     |  __getitem__(...)\n",
      "     |      x.__getitem__(y) <==> x[y]\n",
      "     |  \n",
      "     |  __getslice__(...)\n",
      "     |      x.__getslice__(i, j) <==> x[i:j]\n",
      "     |      \n",
      "     |      Use of negative indices is not supported.\n",
      "     |  \n",
      "     |  __gt__(...)\n",
      "     |      x.__gt__(y) <==> x>y\n",
      "     |  \n",
      "     |  __hash__(...)\n",
      "     |      x.__hash__() <==> hash(x)\n",
      "     |  \n",
      "     |  __le__(...)\n",
      "     |      x.__le__(y) <==> x<=y\n",
      "     |  \n",
      "     |  __len__(...)\n",
      "     |      x.__len__() <==> len(x)\n",
      "     |  \n",
      "     |  __lt__(...)\n",
      "     |      x.__lt__(y) <==> x<y\n",
      "     |  \n",
      "     |  __mul__(...)\n",
      "     |      x.__mul__(n) <==> x*n\n",
      "     |  \n",
      "     |  __ne__(...)\n",
      "     |      x.__ne__(y) <==> x!=y\n",
      "     |  \n",
      "     |  __reduce__(...)\n",
      "     |  \n",
      "     |  __repr__(...)\n",
      "     |      x.__repr__() <==> repr(x)\n",
      "     |  \n",
      "     |  __rmul__(...)\n",
      "     |      x.__rmul__(n) <==> n*x\n",
      "     |  \n",
      "     |  ----------------------------------------------------------------------\n",
      "     |  Data descriptors defined here:\n",
      "     |  \n",
      "     |  st_atime\n",
      "     |      time of last access\n",
      "     |  \n",
      "     |  st_birthtime\n",
      "     |      time of creation\n",
      "     |  \n",
      "     |  st_blksize\n",
      "     |      blocksize for filesystem I/O\n",
      "     |  \n",
      "     |  st_blocks\n",
      "     |      number of blocks allocated\n",
      "     |  \n",
      "     |  st_ctime\n",
      "     |      time of last change\n",
      "     |  \n",
      "     |  st_dev\n",
      "     |      device\n",
      "     |  \n",
      "     |  st_flags\n",
      "     |      user defined flags for file\n",
      "     |  \n",
      "     |  st_gen\n",
      "     |      generation number\n",
      "     |  \n",
      "     |  st_gid\n",
      "     |      group ID of owner\n",
      "     |  \n",
      "     |  st_ino\n",
      "     |      inode\n",
      "     |  \n",
      "     |  st_mode\n",
      "     |      protection bits\n",
      "     |  \n",
      "     |  st_mtime\n",
      "     |      time of last modification\n",
      "     |  \n",
      "     |  st_nlink\n",
      "     |      number of hard links\n",
      "     |  \n",
      "     |  st_rdev\n",
      "     |      device type (if inode device)\n",
      "     |  \n",
      "     |  st_size\n",
      "     |      total size, in bytes\n",
      "     |  \n",
      "     |  st_uid\n",
      "     |      user ID of owner\n",
      "     |  \n",
      "     |  ----------------------------------------------------------------------\n",
      "     |  Data and other attributes defined here:\n",
      "     |  \n",
      "     |  __new__ = <built-in method __new__ of type object>\n",
      "     |      T.__new__(S, ...) -> a new object with type S, a subtype of T\n",
      "     |  \n",
      "     |  n_fields = 19\n",
      "     |  \n",
      "     |  n_sequence_fields = 10\n",
      "     |  \n",
      "     |  n_unnamed_fields = 3\n",
      "    \n",
      "    class statvfs_result(__builtin__.object)\n",
      "     |  statvfs_result: Result from statvfs or fstatvfs.\n",
      "     |  \n",
      "     |  This object may be accessed either as a tuple of\n",
      "     |    (bsize, frsize, blocks, bfree, bavail, files, ffree, favail, flag, namemax),\n",
      "     |  or via the attributes f_bsize, f_frsize, f_blocks, f_bfree, and so on.\n",
      "     |  \n",
      "     |  See os.statvfs for more information.\n",
      "     |  \n",
      "     |  Methods defined here:\n",
      "     |  \n",
      "     |  __add__(...)\n",
      "     |      x.__add__(y) <==> x+y\n",
      "     |  \n",
      "     |  __contains__(...)\n",
      "     |      x.__contains__(y) <==> y in x\n",
      "     |  \n",
      "     |  __eq__(...)\n",
      "     |      x.__eq__(y) <==> x==y\n",
      "     |  \n",
      "     |  __ge__(...)\n",
      "     |      x.__ge__(y) <==> x>=y\n",
      "     |  \n",
      "     |  __getitem__(...)\n",
      "     |      x.__getitem__(y) <==> x[y]\n",
      "     |  \n",
      "     |  __getslice__(...)\n",
      "     |      x.__getslice__(i, j) <==> x[i:j]\n",
      "     |      \n",
      "     |      Use of negative indices is not supported.\n",
      "     |  \n",
      "     |  __gt__(...)\n",
      "     |      x.__gt__(y) <==> x>y\n",
      "     |  \n",
      "     |  __hash__(...)\n",
      "     |      x.__hash__() <==> hash(x)\n",
      "     |  \n",
      "     |  __le__(...)\n",
      "     |      x.__le__(y) <==> x<=y\n",
      "     |  \n",
      "     |  __len__(...)\n",
      "     |      x.__len__() <==> len(x)\n",
      "     |  \n",
      "     |  __lt__(...)\n",
      "     |      x.__lt__(y) <==> x<y\n",
      "     |  \n",
      "     |  __mul__(...)\n",
      "     |      x.__mul__(n) <==> x*n\n",
      "     |  \n",
      "     |  __ne__(...)\n",
      "     |      x.__ne__(y) <==> x!=y\n",
      "     |  \n",
      "     |  __reduce__(...)\n",
      "     |  \n",
      "     |  __repr__(...)\n",
      "     |      x.__repr__() <==> repr(x)\n",
      "     |  \n",
      "     |  __rmul__(...)\n",
      "     |      x.__rmul__(n) <==> n*x\n",
      "     |  \n",
      "     |  ----------------------------------------------------------------------\n",
      "     |  Data descriptors defined here:\n",
      "     |  \n",
      "     |  f_bavail\n",
      "     |  \n",
      "     |  f_bfree\n",
      "     |  \n",
      "     |  f_blocks\n",
      "     |  \n",
      "     |  f_bsize\n",
      "     |  \n",
      "     |  f_favail\n",
      "     |  \n",
      "     |  f_ffree\n",
      "     |  \n",
      "     |  f_files\n",
      "     |  \n",
      "     |  f_flag\n",
      "     |  \n",
      "     |  f_frsize\n",
      "     |  \n",
      "     |  f_namemax\n",
      "     |  \n",
      "     |  ----------------------------------------------------------------------\n",
      "     |  Data and other attributes defined here:\n",
      "     |  \n",
      "     |  __new__ = <built-in method __new__ of type object>\n",
      "     |      T.__new__(S, ...) -> a new object with type S, a subtype of T\n",
      "     |  \n",
      "     |  n_fields = 10\n",
      "     |  \n",
      "     |  n_sequence_fields = 10\n",
      "     |  \n",
      "     |  n_unnamed_fields = 0\n",
      "\n",
      "FUNCTIONS\n",
      "    WCOREDUMP(...)\n",
      "        WCOREDUMP(status) -> bool\n",
      "        \n",
      "        Return True if the process returning 'status' was dumped to a core file.\n",
      "    \n",
      "    WEXITSTATUS(...)\n",
      "        WEXITSTATUS(status) -> integer\n",
      "        \n",
      "        Return the process return code from 'status'.\n",
      "    \n",
      "    WIFCONTINUED(...)\n",
      "        WIFCONTINUED(status) -> bool\n",
      "        \n",
      "        Return True if the process returning 'status' was continued from a\n",
      "        job control stop.\n",
      "    \n",
      "    WIFEXITED(...)\n",
      "        WIFEXITED(status) -> bool\n",
      "        \n",
      "        Return true if the process returning 'status' exited using the exit()\n",
      "        system call.\n",
      "    \n",
      "    WIFSIGNALED(...)\n",
      "        WIFSIGNALED(status) -> bool\n",
      "        \n",
      "        Return True if the process returning 'status' was terminated by a signal.\n",
      "    \n",
      "    WIFSTOPPED(...)\n",
      "        WIFSTOPPED(status) -> bool\n",
      "        \n",
      "        Return True if the process returning 'status' was stopped.\n",
      "    \n",
      "    WSTOPSIG(...)\n",
      "        WSTOPSIG(status) -> integer\n",
      "        \n",
      "        Return the signal that stopped the process that provided\n",
      "        the 'status' value.\n",
      "    \n",
      "    WTERMSIG(...)\n",
      "        WTERMSIG(status) -> integer\n",
      "        \n",
      "        Return the signal that terminated the process that provided the 'status'\n",
      "        value.\n",
      "    \n",
      "    abort(...)\n",
      "        abort() -> does not return!\n",
      "        \n",
      "        Abort the interpreter immediately.  This 'dumps core' or otherwise fails\n",
      "        in the hardest way possible on the hosting operating system.\n",
      "    \n",
      "    access(...)\n",
      "        access(path, mode) -> True if granted, False otherwise\n",
      "        \n",
      "        Use the real uid/gid to test for access to a path.  Note that most\n",
      "        operations will use the effective uid/gid, therefore this routine can\n",
      "        be used in a suid/sgid environment to test if the invoking user has the\n",
      "        specified access to the path.  The mode argument can be F_OK to test\n",
      "        existence, or the inclusive-OR of R_OK, W_OK, and X_OK.\n",
      "    \n",
      "    chdir(...)\n",
      "        chdir(path)\n",
      "        \n",
      "        Change the current working directory to the specified path.\n",
      "    \n",
      "    chflags(...)\n",
      "        chflags(path, flags)\n",
      "        \n",
      "        Set file flags.\n",
      "    \n",
      "    chmod(...)\n",
      "        chmod(path, mode)\n",
      "        \n",
      "        Change the access permissions of a file.\n",
      "    \n",
      "    chown(...)\n",
      "        chown(path, uid, gid)\n",
      "        \n",
      "        Change the owner and group id of path to the numeric uid and gid.\n",
      "    \n",
      "    chroot(...)\n",
      "        chroot(path)\n",
      "        \n",
      "        Change root directory to path.\n",
      "    \n",
      "    close(...)\n",
      "        close(fd)\n",
      "        \n",
      "        Close a file descriptor (for low level IO).\n",
      "    \n",
      "    closerange(...)\n",
      "        closerange(fd_low, fd_high)\n",
      "        \n",
      "        Closes all file descriptors in [fd_low, fd_high), ignoring errors.\n",
      "    \n",
      "    confstr(...)\n",
      "        confstr(name) -> string\n",
      "        \n",
      "        Return a string-valued system configuration variable.\n",
      "    \n",
      "    ctermid(...)\n",
      "        ctermid() -> string\n",
      "        \n",
      "        Return the name of the controlling terminal for this process.\n",
      "    \n",
      "    dup(...)\n",
      "        dup(fd) -> fd2\n",
      "        \n",
      "        Return a duplicate of a file descriptor.\n",
      "    \n",
      "    dup2(...)\n",
      "        dup2(old_fd, new_fd)\n",
      "        \n",
      "        Duplicate file descriptor.\n",
      "    \n",
      "    execl(file, *args)\n",
      "        execl(file, *args)\n",
      "        \n",
      "        Execute the executable file with argument list args, replacing the\n",
      "        current process.\n",
      "    \n",
      "    execle(file, *args)\n",
      "        execle(file, *args, env)\n",
      "        \n",
      "        Execute the executable file with argument list args and\n",
      "        environment env, replacing the current process.\n",
      "    \n",
      "    execlp(file, *args)\n",
      "        execlp(file, *args)\n",
      "        \n",
      "        Execute the executable file (which is searched for along $PATH)\n",
      "        with argument list args, replacing the current process.\n",
      "    \n",
      "    execlpe(file, *args)\n",
      "        execlpe(file, *args, env)\n",
      "        \n",
      "        Execute the executable file (which is searched for along $PATH)\n",
      "        with argument list args and environment env, replacing the current\n",
      "        process.\n",
      "    \n",
      "    execv(...)\n",
      "        execv(path, args)\n",
      "        \n",
      "        Execute an executable path with arguments, replacing current process.\n",
      "        \n",
      "            path: path of executable file\n",
      "            args: tuple or list of strings\n",
      "    \n",
      "    execve(...)\n",
      "        execve(path, args, env)\n",
      "        \n",
      "        Execute a path with arguments and environment, replacing current process.\n",
      "        \n",
      "            path: path of executable file\n",
      "            args: tuple or list of arguments\n",
      "            env: dictionary of strings mapping to strings\n",
      "    \n",
      "    execvp(file, args)\n",
      "        execvp(file, args)\n",
      "        \n",
      "        Execute the executable file (which is searched for along $PATH)\n",
      "        with argument list args, replacing the current process.\n",
      "        args may be a list or tuple of strings.\n",
      "    \n",
      "    execvpe(file, args, env)\n",
      "        execvpe(file, args, env)\n",
      "        \n",
      "        Execute the executable file (which is searched for along $PATH)\n",
      "        with argument list args and environment env , replacing the\n",
      "        current process.\n",
      "        args may be a list or tuple of strings.\n",
      "    \n",
      "    fchdir(...)\n",
      "        fchdir(fildes)\n",
      "        \n",
      "        Change to the directory of the given file descriptor.  fildes must be\n",
      "        opened on a directory, not a file.\n",
      "    \n",
      "    fchmod(...)\n",
      "        fchmod(fd, mode)\n",
      "        \n",
      "        Change the access permissions of the file given by file\n",
      "        descriptor fd.\n",
      "    \n",
      "    fchown(...)\n",
      "        fchown(fd, uid, gid)\n",
      "        \n",
      "        Change the owner and group id of the file given by file descriptor\n",
      "        fd to the numeric uid and gid.\n",
      "    \n",
      "    fdopen(...)\n",
      "        fdopen(fd [, mode='r' [, bufsize]]) -> file_object\n",
      "        \n",
      "        Return an open file object connected to a file descriptor.\n",
      "    \n",
      "    fork(...)\n",
      "        fork() -> pid\n",
      "        \n",
      "        Fork a child process.\n",
      "        Return 0 to child process and PID of child to parent process.\n",
      "    \n",
      "    forkpty(...)\n",
      "        forkpty() -> (pid, master_fd)\n",
      "        \n",
      "        Fork a new process with a new pseudo-terminal as controlling tty.\n",
      "        \n",
      "        Like fork(), return 0 as pid to child process, and PID of child to parent.\n",
      "        To both, return fd of newly opened pseudo-terminal.\n",
      "    \n",
      "    fpathconf(...)\n",
      "        fpathconf(fd, name) -> integer\n",
      "        \n",
      "        Return the configuration limit name for the file descriptor fd.\n",
      "        If there is no limit, return -1.\n",
      "    \n",
      "    fstat(...)\n",
      "        fstat(fd) -> stat result\n",
      "        \n",
      "        Like stat(), but for an open file descriptor.\n",
      "    \n",
      "    fstatvfs(...)\n",
      "        fstatvfs(fd) -> statvfs result\n",
      "        \n",
      "        Perform an fstatvfs system call on the given fd.\n",
      "    \n",
      "    fsync(...)\n",
      "        fsync(fildes)\n",
      "        \n",
      "        force write of file with filedescriptor to disk.\n",
      "    \n",
      "    ftruncate(...)\n",
      "        ftruncate(fd, length)\n",
      "        \n",
      "        Truncate a file to a specified length.\n",
      "    \n",
      "    getcwd(...)\n",
      "        getcwd() -> path\n",
      "        \n",
      "        Return a string representing the current working directory.\n",
      "    \n",
      "    getcwdu(...)\n",
      "        getcwdu() -> path\n",
      "        \n",
      "        Return a unicode string representing the current working directory.\n",
      "    \n",
      "    getegid(...)\n",
      "        getegid() -> egid\n",
      "        \n",
      "        Return the current process's effective group id.\n",
      "    \n",
      "    getenv(key, default=None)\n",
      "        Get an environment variable, return None if it doesn't exist.\n",
      "        The optional second argument can specify an alternate default.\n",
      "    \n",
      "    geteuid(...)\n",
      "        geteuid() -> euid\n",
      "        \n",
      "        Return the current process's effective user id.\n",
      "    \n",
      "    getgid(...)\n",
      "        getgid() -> gid\n",
      "        \n",
      "        Return the current process's group id.\n",
      "    \n",
      "    getgroups(...)\n",
      "        getgroups() -> list of group IDs\n",
      "        \n",
      "        Return list of supplemental group IDs for the process.\n",
      "    \n",
      "    getloadavg(...)\n",
      "        getloadavg() -> (float, float, float)\n",
      "        \n",
      "        Return the number of processes in the system run queue averaged over\n",
      "        the last 1, 5, and 15 minutes or raises OSError if the load average\n",
      "        was unobtainable\n",
      "    \n",
      "    getlogin(...)\n",
      "        getlogin() -> string\n",
      "        \n",
      "        Return the actual login name.\n",
      "    \n",
      "    getpgid(...)\n",
      "        getpgid(pid) -> pgid\n",
      "        \n",
      "        Call the system call getpgid().\n",
      "    \n",
      "    getpgrp(...)\n",
      "        getpgrp() -> pgrp\n",
      "        \n",
      "        Return the current process group id.\n",
      "    \n",
      "    getpid(...)\n",
      "        getpid() -> pid\n",
      "        \n",
      "        Return the current process id\n",
      "    \n",
      "    getppid(...)\n",
      "        getppid() -> ppid\n",
      "        \n",
      "        Return the parent's process id.\n",
      "    \n",
      "    getsid(...)\n",
      "        getsid(pid) -> sid\n",
      "        \n",
      "        Call the system call getsid().\n",
      "    \n",
      "    getuid(...)\n",
      "        getuid() -> uid\n",
      "        \n",
      "        Return the current process's user id.\n",
      "    \n",
      "    initgroups(...)\n",
      "        initgroups(username, gid) -> None\n",
      "        \n",
      "        Call the system initgroups() to initialize the group access list with all of\n",
      "        the groups of which the specified username is a member, plus the specified\n",
      "        group id.\n",
      "    \n",
      "    isatty(...)\n",
      "        isatty(fd) -> bool\n",
      "        \n",
      "        Return True if the file descriptor 'fd' is an open file descriptor\n",
      "        connected to the slave end of a terminal.\n",
      "    \n",
      "    kill(...)\n",
      "        kill(pid, sig)\n",
      "        \n",
      "        Kill a process with a signal.\n",
      "    \n",
      "    killpg(...)\n",
      "        killpg(pgid, sig)\n",
      "        \n",
      "        Kill a process group with a signal.\n",
      "    \n",
      "    lchflags(...)\n",
      "        lchflags(path, flags)\n",
      "        \n",
      "        Set file flags.\n",
      "        This function will not follow symbolic links.\n",
      "    \n",
      "    lchmod(...)\n",
      "        lchmod(path, mode)\n",
      "        \n",
      "        Change the access permissions of a file. If path is a symlink, this\n",
      "        affects the link itself rather than the target.\n",
      "    \n",
      "    lchown(...)\n",
      "        lchown(path, uid, gid)\n",
      "        \n",
      "        Change the owner and group id of path to the numeric uid and gid.\n",
      "        This function will not follow symbolic links.\n",
      "    \n",
      "    link(...)\n",
      "        link(src, dst)\n",
      "        \n",
      "        Create a hard link to a file.\n",
      "    \n",
      "    listdir(...)\n",
      "        listdir(path) -> list_of_strings\n",
      "        \n",
      "        Return a list containing the names of the entries in the directory.\n",
      "        \n",
      "            path: path of directory to list\n",
      "        \n",
      "        The list is in arbitrary order.  It does not include the special\n",
      "        entries '.' and '..' even if they are present in the directory.\n",
      "    \n",
      "    lseek(...)\n",
      "        lseek(fd, pos, how) -> newpos\n",
      "        \n",
      "        Set the current position of a file descriptor.\n",
      "        Return the new cursor position in bytes, starting from the beginning.\n",
      "    \n",
      "    lstat(...)\n",
      "        lstat(path) -> stat result\n",
      "        \n",
      "        Like stat(path), but do not follow symbolic links.\n",
      "    \n",
      "    major(...)\n",
      "        major(device) -> major number\n",
      "        Extracts a device major number from a raw device number.\n",
      "    \n",
      "    makedev(...)\n",
      "        makedev(major, minor) -> device number\n",
      "        Composes a raw device number from the major and minor device numbers.\n",
      "    \n",
      "    makedirs(name, mode=511)\n",
      "        makedirs(path [, mode=0777])\n",
      "        \n",
      "        Super-mkdir; create a leaf directory and all intermediate ones.\n",
      "        Works like mkdir, except that any intermediate path segment (not\n",
      "        just the rightmost) will be created if it does not exist.  This is\n",
      "        recursive.\n",
      "    \n",
      "    minor(...)\n",
      "        minor(device) -> minor number\n",
      "        Extracts a device minor number from a raw device number.\n",
      "    \n",
      "    mkdir(...)\n",
      "        mkdir(path [, mode=0777])\n",
      "        \n",
      "        Create a directory.\n",
      "    \n",
      "    mkfifo(...)\n",
      "        mkfifo(filename [, mode=0666])\n",
      "        \n",
      "        Create a FIFO (a POSIX named pipe).\n",
      "    \n",
      "    mknod(...)\n",
      "        mknod(filename [, mode=0600, device])\n",
      "        \n",
      "        Create a filesystem node (file, device special file or named pipe)\n",
      "        named filename. mode specifies both the permissions to use and the\n",
      "        type of node to be created, being combined (bitwise OR) with one of\n",
      "        S_IFREG, S_IFCHR, S_IFBLK, and S_IFIFO. For S_IFCHR and S_IFBLK,\n",
      "        device defines the newly created device special file (probably using\n",
      "        os.makedev()), otherwise it is ignored.\n",
      "    \n",
      "    nice(...)\n",
      "        nice(inc) -> new_priority\n",
      "        \n",
      "        Decrease the priority of process by inc and return the new priority.\n",
      "    \n",
      "    open(...)\n",
      "        open(filename, flag [, mode=0777]) -> fd\n",
      "        \n",
      "        Open a file (for low level IO).\n",
      "    \n",
      "    openpty(...)\n",
      "        openpty() -> (master_fd, slave_fd)\n",
      "        \n",
      "        Open a pseudo-terminal, returning open fd's for both master and slave end.\n",
      "    \n",
      "    pathconf(...)\n",
      "        pathconf(path, name) -> integer\n",
      "        \n",
      "        Return the configuration limit name for the file or directory path.\n",
      "        If there is no limit, return -1.\n",
      "    \n",
      "    pipe(...)\n",
      "        pipe() -> (read_end, write_end)\n",
      "        \n",
      "        Create a pipe.\n",
      "    \n",
      "    popen(...)\n",
      "        popen(command [, mode='r' [, bufsize]]) -> pipe\n",
      "        \n",
      "        Open a pipe to/from a command returning a file object.\n",
      "    \n",
      "    popen2(cmd, mode='t', bufsize=-1)\n",
      "        Execute the shell command 'cmd' in a sub-process.  On UNIX, 'cmd'\n",
      "        may be a sequence, in which case arguments will be passed directly to\n",
      "        the program without shell intervention (as with os.spawnv()).  If 'cmd'\n",
      "        is a string it will be passed to the shell (as with os.system()). If\n",
      "        'bufsize' is specified, it sets the buffer size for the I/O pipes.  The\n",
      "        file objects (child_stdin, child_stdout) are returned.\n",
      "    \n",
      "    popen3(cmd, mode='t', bufsize=-1)\n",
      "        Execute the shell command 'cmd' in a sub-process.  On UNIX, 'cmd'\n",
      "        may be a sequence, in which case arguments will be passed directly to\n",
      "        the program without shell intervention (as with os.spawnv()).  If 'cmd'\n",
      "        is a string it will be passed to the shell (as with os.system()). If\n",
      "        'bufsize' is specified, it sets the buffer size for the I/O pipes.  The\n",
      "        file objects (child_stdin, child_stdout, child_stderr) are returned.\n",
      "    \n",
      "    popen4(cmd, mode='t', bufsize=-1)\n",
      "        Execute the shell command 'cmd' in a sub-process.  On UNIX, 'cmd'\n",
      "        may be a sequence, in which case arguments will be passed directly to\n",
      "        the program without shell intervention (as with os.spawnv()).  If 'cmd'\n",
      "        is a string it will be passed to the shell (as with os.system()). If\n",
      "        'bufsize' is specified, it sets the buffer size for the I/O pipes.  The\n",
      "        file objects (child_stdin, child_stdout_stderr) are returned.\n",
      "    \n",
      "    putenv(...)\n",
      "        putenv(key, value)\n",
      "        \n",
      "        Change or add an environment variable.\n",
      "    \n",
      "    read(...)\n",
      "        read(fd, buffersize) -> string\n",
      "        \n",
      "        Read a file descriptor.\n",
      "    \n",
      "    readlink(...)\n",
      "        readlink(path) -> path\n",
      "        \n",
      "        Return a string representing the path to which the symbolic link points.\n",
      "    \n",
      "    remove(...)\n",
      "        remove(path)\n",
      "        \n",
      "        Remove a file (same as unlink(path)).\n",
      "    \n",
      "    removedirs(name)\n",
      "        removedirs(path)\n",
      "        \n",
      "        Super-rmdir; remove a leaf directory and all empty intermediate\n",
      "        ones.  Works like rmdir except that, if the leaf directory is\n",
      "        successfully removed, directories corresponding to rightmost path\n",
      "        segments will be pruned away until either the whole path is\n",
      "        consumed or an error occurs.  Errors during this latter phase are\n",
      "        ignored -- they generally mean that a directory was not empty.\n",
      "    \n",
      "    rename(...)\n",
      "        rename(old, new)\n",
      "        \n",
      "        Rename a file or directory.\n",
      "    \n",
      "    renames(old, new)\n",
      "        renames(old, new)\n",
      "        \n",
      "        Super-rename; create directories as necessary and delete any left\n",
      "        empty.  Works like rename, except creation of any intermediate\n",
      "        directories needed to make the new pathname good is attempted\n",
      "        first.  After the rename, directories corresponding to rightmost\n",
      "        path segments of the old name will be pruned until either the\n",
      "        whole path is consumed or a nonempty directory is found.\n",
      "        \n",
      "        Note: this function can fail with the new directory structure made\n",
      "        if you lack permissions needed to unlink the leaf directory or\n",
      "        file.\n",
      "    \n",
      "    rmdir(...)\n",
      "        rmdir(path)\n",
      "        \n",
      "        Remove a directory.\n",
      "    \n",
      "    setegid(...)\n",
      "        setegid(gid)\n",
      "        \n",
      "        Set the current process's effective group id.\n",
      "    \n",
      "    seteuid(...)\n",
      "        seteuid(uid)\n",
      "        \n",
      "        Set the current process's effective user id.\n",
      "    \n",
      "    setgid(...)\n",
      "        setgid(gid)\n",
      "        \n",
      "        Set the current process's group id.\n",
      "    \n",
      "    setgroups(...)\n",
      "        setgroups(list)\n",
      "        \n",
      "        Set the groups of the current process to list.\n",
      "    \n",
      "    setpgid(...)\n",
      "        setpgid(pid, pgrp)\n",
      "        \n",
      "        Call the system call setpgid().\n",
      "    \n",
      "    setpgrp(...)\n",
      "        setpgrp()\n",
      "        \n",
      "        Make this process the process group leader.\n",
      "    \n",
      "    setregid(...)\n",
      "        setregid(rgid, egid)\n",
      "        \n",
      "        Set the current process's real and effective group ids.\n",
      "    \n",
      "    setreuid(...)\n",
      "        setreuid(ruid, euid)\n",
      "        \n",
      "        Set the current process's real and effective user ids.\n",
      "    \n",
      "    setsid(...)\n",
      "        setsid()\n",
      "        \n",
      "        Call the system call setsid().\n",
      "    \n",
      "    setuid(...)\n",
      "        setuid(uid)\n",
      "        \n",
      "        Set the current process's user id.\n",
      "    \n",
      "    spawnl(mode, file, *args)\n",
      "        spawnl(mode, file, *args) -> integer\n",
      "        \n",
      "        Execute file with arguments from args in a subprocess.\n",
      "        If mode == P_NOWAIT return the pid of the process.\n",
      "        If mode == P_WAIT return the process's exit code if it exits normally;\n",
      "        otherwise return -SIG, where SIG is the signal that killed it.\n",
      "    \n",
      "    spawnle(mode, file, *args)\n",
      "        spawnle(mode, file, *args, env) -> integer\n",
      "        \n",
      "        Execute file with arguments from args in a subprocess with the\n",
      "        supplied environment.\n",
      "        If mode == P_NOWAIT return the pid of the process.\n",
      "        If mode == P_WAIT return the process's exit code if it exits normally;\n",
      "        otherwise return -SIG, where SIG is the signal that killed it.\n",
      "    \n",
      "    spawnlp(mode, file, *args)\n",
      "        spawnlp(mode, file, *args) -> integer\n",
      "        \n",
      "        Execute file (which is looked for along $PATH) with arguments from\n",
      "        args in a subprocess with the supplied environment.\n",
      "        If mode == P_NOWAIT return the pid of the process.\n",
      "        If mode == P_WAIT return the process's exit code if it exits normally;\n",
      "        otherwise return -SIG, where SIG is the signal that killed it.\n",
      "    \n",
      "    spawnlpe(mode, file, *args)\n",
      "        spawnlpe(mode, file, *args, env) -> integer\n",
      "        \n",
      "        Execute file (which is looked for along $PATH) with arguments from\n",
      "        args in a subprocess with the supplied environment.\n",
      "        If mode == P_NOWAIT return the pid of the process.\n",
      "        If mode == P_WAIT return the process's exit code if it exits normally;\n",
      "        otherwise return -SIG, where SIG is the signal that killed it.\n",
      "    \n",
      "    spawnv(mode, file, args)\n",
      "        spawnv(mode, file, args) -> integer\n",
      "        \n",
      "        Execute file with arguments from args in a subprocess.\n",
      "        If mode == P_NOWAIT return the pid of the process.\n",
      "        If mode == P_WAIT return the process's exit code if it exits normally;\n",
      "        otherwise return -SIG, where SIG is the signal that killed it.\n",
      "    \n",
      "    spawnve(mode, file, args, env)\n",
      "        spawnve(mode, file, args, env) -> integer\n",
      "        \n",
      "        Execute file with arguments from args in a subprocess with the\n",
      "        specified environment.\n",
      "        If mode == P_NOWAIT return the pid of the process.\n",
      "        If mode == P_WAIT return the process's exit code if it exits normally;\n",
      "        otherwise return -SIG, where SIG is the signal that killed it.\n",
      "    \n",
      "    spawnvp(mode, file, args)\n",
      "        spawnvp(mode, file, args) -> integer\n",
      "        \n",
      "        Execute file (which is looked for along $PATH) with arguments from\n",
      "        args in a subprocess.\n",
      "        If mode == P_NOWAIT return the pid of the process.\n",
      "        If mode == P_WAIT return the process's exit code if it exits normally;\n",
      "        otherwise return -SIG, where SIG is the signal that killed it.\n",
      "    \n",
      "    spawnvpe(mode, file, args, env)\n",
      "        spawnvpe(mode, file, args, env) -> integer\n",
      "        \n",
      "        Execute file (which is looked for along $PATH) with arguments from\n",
      "        args in a subprocess with the supplied environment.\n",
      "        If mode == P_NOWAIT return the pid of the process.\n",
      "        If mode == P_WAIT return the process's exit code if it exits normally;\n",
      "        otherwise return -SIG, where SIG is the signal that killed it.\n",
      "    \n",
      "    stat(...)\n",
      "        stat(path) -> stat result\n",
      "        \n",
      "        Perform a stat system call on the given path.\n",
      "    \n",
      "    stat_float_times(...)\n",
      "        stat_float_times([newval]) -> oldval\n",
      "        \n",
      "        Determine whether os.[lf]stat represents time stamps as float objects.\n",
      "        If newval is True, future calls to stat() return floats, if it is False,\n",
      "        future calls return ints. \n",
      "        If newval is omitted, return the current setting.\n",
      "    \n",
      "    statvfs(...)\n",
      "        statvfs(path) -> statvfs result\n",
      "        \n",
      "        Perform a statvfs system call on the given path.\n",
      "    \n",
      "    strerror(...)\n",
      "        strerror(code) -> string\n",
      "        \n",
      "        Translate an error code to a message string.\n",
      "    \n",
      "    symlink(...)\n",
      "        symlink(src, dst)\n",
      "        \n",
      "        Create a symbolic link pointing to src named dst.\n",
      "    \n",
      "    sysconf(...)\n",
      "        sysconf(name) -> integer\n",
      "        \n",
      "        Return an integer-valued system configuration variable.\n",
      "    \n",
      "    system(...)\n",
      "        system(command) -> exit_status\n",
      "        \n",
      "        Execute the command (a string) in a subshell.\n",
      "    \n",
      "    tcgetpgrp(...)\n",
      "        tcgetpgrp(fd) -> pgid\n",
      "        \n",
      "        Return the process group associated with the terminal given by a fd.\n",
      "    \n",
      "    tcsetpgrp(...)\n",
      "        tcsetpgrp(fd, pgid)\n",
      "        \n",
      "        Set the process group associated with the terminal given by a fd.\n",
      "    \n",
      "    tempnam(...)\n",
      "        tempnam([dir[, prefix]]) -> string\n",
      "        \n",
      "        Return a unique name for a temporary file.\n",
      "        The directory and a prefix may be specified as strings; they may be omitted\n",
      "        or None if not needed.\n",
      "    \n",
      "    times(...)\n",
      "        times() -> (utime, stime, cutime, cstime, elapsed_time)\n",
      "        \n",
      "        Return a tuple of floating point numbers indicating process times.\n",
      "    \n",
      "    tmpfile(...)\n",
      "        tmpfile() -> file object\n",
      "        \n",
      "        Create a temporary file with no directory entries.\n",
      "    \n",
      "    tmpnam(...)\n",
      "        tmpnam() -> string\n",
      "        \n",
      "        Return a unique name for a temporary file.\n",
      "    \n",
      "    ttyname(...)\n",
      "        ttyname(fd) -> string\n",
      "        \n",
      "        Return the name of the terminal device connected to 'fd'.\n",
      "    \n",
      "    umask(...)\n",
      "        umask(new_mask) -> old_mask\n",
      "        \n",
      "        Set the current numeric umask and return the previous umask.\n",
      "    \n",
      "    uname(...)\n",
      "        uname() -> (sysname, nodename, release, version, machine)\n",
      "        \n",
      "        Return a tuple identifying the current operating system.\n",
      "    \n",
      "    unlink(...)\n",
      "        unlink(path)\n",
      "        \n",
      "        Remove a file (same as remove(path)).\n",
      "    \n",
      "    unsetenv(...)\n",
      "        unsetenv(key)\n",
      "        \n",
      "        Delete an environment variable.\n",
      "    \n",
      "    urandom(...)\n",
      "        urandom(n) -> str\n",
      "        \n",
      "        Return n random bytes suitable for cryptographic use.\n",
      "    \n",
      "    utime(...)\n",
      "        utime(path, (atime, mtime))\n",
      "        utime(path, None)\n",
      "        \n",
      "        Set the access and modified time of the file to the given values.  If the\n",
      "        second form is used, set the access and modified times to the current time.\n",
      "    \n",
      "    wait(...)\n",
      "        wait() -> (pid, status)\n",
      "        \n",
      "        Wait for completion of a child process.\n",
      "    \n",
      "    wait3(...)\n",
      "        wait3(options) -> (pid, status, rusage)\n",
      "        \n",
      "        Wait for completion of a child process.\n",
      "    \n",
      "    wait4(...)\n",
      "        wait4(pid, options) -> (pid, status, rusage)\n",
      "        \n",
      "        Wait for completion of a given child process.\n",
      "    \n",
      "    waitpid(...)\n",
      "        waitpid(pid, options) -> (pid, status)\n",
      "        \n",
      "        Wait for completion of a given child process.\n",
      "    \n",
      "    walk(top, topdown=True, onerror=None, followlinks=False)\n",
      "        Directory tree generator.\n",
      "        \n",
      "        For each directory in the directory tree rooted at top (including top\n",
      "        itself, but excluding '.' and '..'), yields a 3-tuple\n",
      "        \n",
      "            dirpath, dirnames, filenames\n",
      "        \n",
      "        dirpath is a string, the path to the directory.  dirnames is a list of\n",
      "        the names of the subdirectories in dirpath (excluding '.' and '..').\n",
      "        filenames is a list of the names of the non-directory files in dirpath.\n",
      "        Note that the names in the lists are just names, with no path components.\n",
      "        To get a full path (which begins with top) to a file or directory in\n",
      "        dirpath, do os.path.join(dirpath, name).\n",
      "        \n",
      "        If optional arg 'topdown' is true or not specified, the triple for a\n",
      "        directory is generated before the triples for any of its subdirectories\n",
      "        (directories are generated top down).  If topdown is false, the triple\n",
      "        for a directory is generated after the triples for all of its\n",
      "        subdirectories (directories are generated bottom up).\n",
      "        \n",
      "        When topdown is true, the caller can modify the dirnames list in-place\n",
      "        (e.g., via del or slice assignment), and walk will only recurse into the\n",
      "        subdirectories whose names remain in dirnames; this can be used to prune the\n",
      "        search, or to impose a specific order of visiting.  Modifying dirnames when\n",
      "        topdown is false is ineffective, since the directories in dirnames have\n",
      "        already been generated by the time dirnames itself is generated. No matter\n",
      "        the value of topdown, the list of subdirectories is retrieved before the\n",
      "        tuples for the directory and its subdirectories are generated.\n",
      "        \n",
      "        By default errors from the os.listdir() call are ignored.  If\n",
      "        optional arg 'onerror' is specified, it should be a function; it\n",
      "        will be called with one argument, an os.error instance.  It can\n",
      "        report the error to continue with the walk, or raise the exception\n",
      "        to abort the walk.  Note that the filename is available as the\n",
      "        filename attribute of the exception object.\n",
      "        \n",
      "        By default, os.walk does not follow symbolic links to subdirectories on\n",
      "        systems that support them.  In order to get this functionality, set the\n",
      "        optional argument 'followlinks' to true.\n",
      "        \n",
      "        Caution:  if you pass a relative pathname for top, don't change the\n",
      "        current working directory between resumptions of walk.  walk never\n",
      "        changes the current directory, and assumes that the client doesn't\n",
      "        either.\n",
      "        \n",
      "        Example:\n",
      "        \n",
      "        import os\n",
      "        from os.path import join, getsize\n",
      "        for root, dirs, files in os.walk('python/Lib/email'):\n",
      "            print root, \"consumes\",\n",
      "            print sum([getsize(join(root, name)) for name in files]),\n",
      "            print \"bytes in\", len(files), \"non-directory files\"\n",
      "            if 'CVS' in dirs:\n",
      "                dirs.remove('CVS')  # don't visit CVS directories\n",
      "    \n",
      "    write(...)\n",
      "        write(fd, string) -> byteswritten\n",
      "        \n",
      "        Write a string to a file descriptor.\n",
      "\n",
      "DATA\n",
      "    EX_CANTCREAT = 73\n",
      "    EX_CONFIG = 78\n",
      "    EX_DATAERR = 65\n",
      "    EX_IOERR = 74\n",
      "    EX_NOHOST = 68\n",
      "    EX_NOINPUT = 66\n",
      "    EX_NOPERM = 77\n",
      "    EX_NOUSER = 67\n",
      "    EX_OK = 0\n",
      "    EX_OSERR = 71\n",
      "    EX_OSFILE = 72\n",
      "    EX_PROTOCOL = 76\n",
      "    EX_SOFTWARE = 70\n",
      "    EX_TEMPFAIL = 75\n",
      "    EX_UNAVAILABLE = 69\n",
      "    EX_USAGE = 64\n",
      "    F_OK = 0\n",
      "    NGROUPS_MAX = 16\n",
      "    O_APPEND = 8\n",
      "    O_ASYNC = 64\n",
      "    O_CREAT = 512\n",
      "    O_DIRECTORY = 1048576\n",
      "    O_DSYNC = 4194304\n",
      "    O_EXCL = 2048\n",
      "    O_EXLOCK = 32\n",
      "    O_NDELAY = 4\n",
      "    O_NOCTTY = 131072\n",
      "    O_NOFOLLOW = 256\n",
      "    O_NONBLOCK = 4\n",
      "    O_RDONLY = 0\n",
      "    O_RDWR = 2\n",
      "    O_SHLOCK = 16\n",
      "    O_SYNC = 128\n",
      "    O_TRUNC = 1024\n",
      "    O_WRONLY = 1\n",
      "    R_OK = 4\n",
      "    SEEK_CUR = 1\n",
      "    SEEK_END = 2\n",
      "    SEEK_SET = 0\n",
      "    TMP_MAX = 308915776\n",
      "    WCONTINUED = 16\n",
      "    WNOHANG = 1\n",
      "    WUNTRACED = 2\n",
      "    W_OK = 2\n",
      "    X_OK = 1\n",
      "    __all__ = ['altsep', 'curdir', 'pardir', 'sep', 'extsep', 'pathsep', '...\n",
      "    altsep = None\n",
      "    confstr_names = {'CS_PATH': 1, 'CS_XBS5_ILP32_OFF32_CFLAGS': 20, 'CS_X...\n",
      "    curdir = '.'\n",
      "    defpath = ':/bin:/usr/bin'\n",
      "    devnull = '/dev/null'\n",
      "    environ = {'FONTCONFIG_PATH': '/opt/X11/lib/X11/fontconfig...x0:0x0', ...\n",
      "    extsep = '.'\n",
      "    linesep = '\\n'\n",
      "    name = 'posix'\n",
      "    pardir = '..'\n",
      "    pathconf_names = {'PC_ASYNC_IO': 17, 'PC_CHOWN_RESTRICTED': 7, 'PC_FIL...\n",
      "    pathsep = ':'\n",
      "    sep = '/'\n",
      "    sysconf_names = {'SC_2_CHAR_TERM': 20, 'SC_2_C_BIND': 18, 'SC_2_C_DEV'...\n",
      "\n",
      "\n"
     ]
    }
   ],
   "source": [
    "import os\n",
    "help(os)"
   ]
  },
  {
   "cell_type": "code",
   "execution_count": null,
   "metadata": {
    "collapsed": false
   },
   "outputs": [],
   "source": [
    "os?"
   ]
  },
  {
   "cell_type": "code",
   "execution_count": 3,
   "metadata": {
    "collapsed": false
   },
   "outputs": [
    {
     "data": {
      "text/plain": [
       "'/'"
      ]
     },
     "execution_count": 3,
     "metadata": {},
     "output_type": "execute_result"
    }
   ],
   "source": [
    "os.path.sep"
   ]
  },
  {
   "cell_type": "markdown",
   "metadata": {},
   "source": [
    "## Query an object's interface with"
   ]
  },
  {
   "cell_type": "code",
   "execution_count": 25,
   "metadata": {
    "collapsed": false
   },
   "outputs": [
    {
     "data": {
      "text/plain": [
       "['In',\n",
       " 'Out',\n",
       " '_',\n",
       " '_11',\n",
       " '_12',\n",
       " '_13',\n",
       " '_17',\n",
       " '_18',\n",
       " '_21',\n",
       " '_22',\n",
       " '_23',\n",
       " '_24',\n",
       " '_7',\n",
       " '_8',\n",
       " '_9',\n",
       " '__',\n",
       " '___',\n",
       " '__builtin__',\n",
       " '__builtins__',\n",
       " '__doc__',\n",
       " '__name__',\n",
       " '__package__',\n",
       " '_dh',\n",
       " '_i',\n",
       " '_i1',\n",
       " '_i10',\n",
       " '_i11',\n",
       " '_i12',\n",
       " '_i13',\n",
       " '_i14',\n",
       " '_i15',\n",
       " '_i16',\n",
       " '_i17',\n",
       " '_i18',\n",
       " '_i19',\n",
       " '_i2',\n",
       " '_i20',\n",
       " '_i21',\n",
       " '_i22',\n",
       " '_i23',\n",
       " '_i24',\n",
       " '_i25',\n",
       " '_i3',\n",
       " '_i4',\n",
       " '_i5',\n",
       " '_i6',\n",
       " '_i7',\n",
       " '_i8',\n",
       " '_i9',\n",
       " '_ih',\n",
       " '_ii',\n",
       " '_iii',\n",
       " '_oh',\n",
       " '_sh',\n",
       " 'a',\n",
       " 'another_string',\n",
       " 'b',\n",
       " 'c',\n",
       " 'd',\n",
       " 'exit',\n",
       " 'get_ipython',\n",
       " 'mynum',\n",
       " 'mystr',\n",
       " 'os',\n",
       " 'quit',\n",
       " 'this']"
      ]
     },
     "execution_count": 25,
     "metadata": {},
     "output_type": "execute_result"
    }
   ],
   "source": [
    "dir()"
   ]
  },
  {
   "cell_type": "markdown",
   "metadata": {},
   "source": [
    "## You can also query an object's docstring"
   ]
  },
  {
   "cell_type": "code",
   "execution_count": 28,
   "metadata": {
    "collapsed": false
   },
   "outputs": [
    {
     "name": "stdout",
     "output_type": "stream",
     "text": [
      "OS routines for NT or Posix depending on what system we're on.\n",
      "\n",
      "This exports:\n",
      "  - all functions from posix, nt, os2, or ce, e.g. unlink, stat, etc.\n",
      "  - os.path is one of the modules posixpath, or ntpath\n",
      "  - os.name is 'posix', 'nt', 'os2', 'ce' or 'riscos'\n",
      "  - os.curdir is a string representing the current directory ('.' or ':')\n",
      "  - os.pardir is a string representing the parent directory ('..' or '::')\n",
      "  - os.sep is the (or a most common) pathname separator ('/' or ':' or '\\\\')\n",
      "  - os.extsep is the extension separator ('.' or '/')\n",
      "  - os.altsep is the alternate pathname separator (None or '/')\n",
      "  - os.pathsep is the component separator used in $PATH etc\n",
      "  - os.linesep is the line separator in text files ('\\r' or '\\n' or '\\r\\n')\n",
      "  - os.defpath is the default search path for executables\n",
      "  - os.devnull is the file path of the null device ('/dev/null', etc.)\n",
      "\n",
      "Programs that import and use 'os' stand a better chance of being\n",
      "portable between different platforms.  Of course, they must then\n",
      "only use functions that are defined by all platforms (e.g., unlink\n",
      "and opendir), and leave all pathname manipulation to os.path\n",
      "(e.g., split and join).\n",
      "\n"
     ]
    }
   ],
   "source": [
    "print os.__doc__"
   ]
  },
  {
   "cell_type": "code",
   "execution_count": 27,
   "metadata": {
    "collapsed": false
   },
   "outputs": [
    {
     "data": {
      "text/plain": [
       "\"OS routines for NT or Posix depending on what system we're on.\\n\\nThis exports:\\n  - all functions from posix, nt, os2, or ce, e.g. unlink, stat, etc.\\n  - os.path is one of the modules posixpath, or ntpath\\n  - os.name is 'posix', 'nt', 'os2', 'ce' or 'riscos'\\n  - os.curdir is a string representing the current directory ('.' or ':')\\n  - os.pardir is a string representing the parent directory ('..' or '::')\\n  - os.sep is the (or a most common) pathname separator ('/' or ':' or '\\\\\\\\')\\n  - os.extsep is the extension separator ('.' or '/')\\n  - os.altsep is the alternate pathname separator (None or '/')\\n  - os.pathsep is the component separator used in $PATH etc\\n  - os.linesep is the line separator in text files ('\\\\r' or '\\\\n' or '\\\\r\\\\n')\\n  - os.defpath is the default search path for executables\\n  - os.devnull is the file path of the null device ('/dev/null', etc.)\\n\\nPrograms that import and use 'os' stand a better chance of being\\nportable between different platforms.  Of course, they must then\\nonly use functions that are defined by all platforms (e.g., unlink\\nand opendir), and leave all pathname manipulation to os.path\\n(e.g., split and join).\\n\""
      ]
     },
     "execution_count": 27,
     "metadata": {},
     "output_type": "execute_result"
    }
   ],
   "source": [
    "os.__doc__"
   ]
  },
  {
   "cell_type": "markdown",
   "metadata": {},
   "source": [
    "# Strings\n",
    "\n",
    "## Quoting\n",
    "\n",
    "Python strings can be single quoted, double quoted or triple quoted.\n",
    "\n",
    "    >>> mystr = 'hello'\n",
    "    >>> mystr2 = \"hello\"\n",
    "    >>> mystr3 = \"The computer said 'hello, world!'\"\n",
    "\n",
    "Strings are represented by a class (more about classes later) and they can be parametrized using `%` and tuples\n",
    "\n",
    "    >>> greeting = \"Hello, %s. We calculated the result %.3f\" % (\"Alice\", 6.632)\n",
    "    >>> print greeting\n",
    "    Hello, Alice. We calculated the result 6.632\n",
    "    "
   ]
  },
  {
   "cell_type": "code",
   "execution_count": 29,
   "metadata": {
    "collapsed": false
   },
   "outputs": [
    {
     "name": "stdout",
     "output_type": "stream",
     "text": [
      "Hello, Alice. We calculated the result 6.632\n"
     ]
    }
   ],
   "source": [
    "greeting = \"Hello, %s. We calculated the result %.3f\" % (\"Alice\", 6.632)\n",
    "print greeting"
   ]
  },
  {
   "cell_type": "code",
   "execution_count": 30,
   "metadata": {
    "collapsed": false
   },
   "outputs": [
    {
     "name": "stdout",
     "output_type": "stream",
     "text": [
      "Hello, Alice. We calculated the result 6.632\n"
     ]
    }
   ],
   "source": [
    "print \"Hello, {0}. We calculated the result {1}\".format(\"Alice\", 6.632)"
   ]
  },
  {
   "cell_type": "code",
   "execution_count": 31,
   "metadata": {
    "collapsed": true
   },
   "outputs": [],
   "source": [
    "greeting.split?"
   ]
  },
  {
   "cell_type": "code",
   "execution_count": 32,
   "metadata": {
    "collapsed": false
   },
   "outputs": [
    {
     "data": {
      "text/plain": [
       "['Hello', ' Alice. We calculated the result 6.632']"
      ]
     },
     "execution_count": 32,
     "metadata": {},
     "output_type": "execute_result"
    }
   ],
   "source": [
    "greeting.split(\",\")"
   ]
  },
  {
   "cell_type": "code",
   "execution_count": 33,
   "metadata": {
    "collapsed": false
   },
   "outputs": [
    {
     "name": "stdout",
     "output_type": "stream",
     "text": [
      "ALain Ledon\n",
      "Baruch\n",
      "\n"
     ]
    }
   ],
   "source": [
    "mystr = \"\"\"ALain Ledon\n",
    "Baruch\n",
    "\"\"\"\n",
    "print mystr"
   ]
  },
  {
   "cell_type": "code",
   "execution_count": 56,
   "metadata": {
    "collapsed": false
   },
   "outputs": [
    {
     "ename": "TypeError",
     "evalue": "'str' object does not support item assignment",
     "output_type": "error",
     "traceback": [
      "\u001b[0;31m---------------------------------------------------------------------------\u001b[0m",
      "\u001b[0;31mTypeError\u001b[0m                                 Traceback (most recent call last)",
      "\u001b[0;32m<ipython-input-56-1b5a7a7b89b1>\u001b[0m in \u001b[0;36m<module>\u001b[0;34m()\u001b[0m\n\u001b[1;32m      1\u001b[0m \u001b[0mmystr\u001b[0m \u001b[0;34m=\u001b[0m \u001b[0;34m\"alain ledon\"\u001b[0m\u001b[0;34m\u001b[0m\u001b[0m\n\u001b[0;32m----> 2\u001b[0;31m \u001b[0mmystr\u001b[0m\u001b[0;34m[\u001b[0m\u001b[0;36m0\u001b[0m\u001b[0;34m]\u001b[0m \u001b[0;34m=\u001b[0m \u001b[0;36m5\u001b[0m\u001b[0;34m\u001b[0m\u001b[0m\n\u001b[0m",
      "\u001b[0;31mTypeError\u001b[0m: 'str' object does not support item assignment"
     ]
    }
   ],
   "source": [
    "mystr = \"alain ledon\"\n",
    "mystr[0] = \"5\""
   ]
  },
  {
   "cell_type": "markdown",
   "metadata": {},
   "source": [
    "# Syntax\n",
    "\n",
    "## Python is extremely readable\n",
    "\n",
    "<font color=\"red\">60% to 80% of software cost is in maintenance.</font>\n",
    "\n",
    "## No mandatory statement termination characters\n",
    "\n",
    "    myval = 3 + 6\n",
    "\n",
    "_No terminating semicolon_\n",
    "\n",
    "## Lexical scope (blocks) specified by indentation\n",
    "\n",
    "    class Payment(object):\n",
    "        def __init__(self):\n",
    "            \"\"\"\n",
    "            A Multiline comment\n",
    "            With additional documentation\n",
    "            \"\"\"\n",
    "            self.amount = 1000  # Note no terminal semicolon\n",
    "            self.currency = 'USD'   # Scope is indented\n",
    "\n",
    "* One line comments begin with `#` \n",
    "* Multi-line comments begin with `\"\"\"` (single or double quotes)"
   ]
  },
  {
   "cell_type": "markdown",
   "metadata": {},
   "source": [
    "# Built-in Data Structures\n",
    "\n",
    "Python comes with a rich collection of data structures\n",
    "\n",
    "## Lists, Tuples (Immutable Lists) and Dictionaries\n",
    "\n",
    "* Python lists are represented by the square bracket \"[\"\n",
    "* Python lists may contain any type including other lists.\n",
    "* Negative numbers count from the end. -1 is the last item.\n",
    "* Tuples behave just like lists but are immutable.\n",
    "* You can access a piece of the list (slices) by using colon \":\" \n",
    "* Python has supports for <key, value> storage using dictionaries (or dict)"
   ]
  },
  {
   "cell_type": "code",
   "execution_count": 4,
   "metadata": {
    "collapsed": false
   },
   "outputs": [
    {
     "name": "stdout",
     "output_type": "stream",
     "text": [
      "[['apple', 'banana'], ['red', 'yellow'], 3, 'Alain']\n",
      "yellow\n",
      "[['apple', 'banana'], ['red', 'yellow'], 3]\n"
     ]
    }
   ],
   "source": [
    "fruit = [ 'apple', 'banana' ]\n",
    "color = [ 'red', 'yellow' ]\n",
    "blend = [ fruit, color ]\n",
    "blend.append(3)\n",
    "blend.append(\"Alain\")\n",
    "print blend\n",
    "print blend[-3][1]\n",
    "print blend[:3]"
   ]
  },
  {
   "cell_type": "code",
   "execution_count": 40,
   "metadata": {
    "collapsed": false
   },
   "outputs": [
    {
     "data": {
      "text/plain": [
       "[['apple', 'banana'], ['red', 'yellow'], 3]"
      ]
     },
     "execution_count": 40,
     "metadata": {},
     "output_type": "execute_result"
    }
   ],
   "source": [
    "fruit = [ 'apple', 'banana' ]\n",
    "color = [ 'red', 'yellow' ]\n",
    "blend = [ fruit, color ]\n",
    "blend.append(3)\n",
    "blend"
   ]
  },
  {
   "cell_type": "code",
   "execution_count": 43,
   "metadata": {
    "collapsed": false
   },
   "outputs": [
    {
     "data": {
      "text/plain": [
       "3"
      ]
     },
     "execution_count": 43,
     "metadata": {},
     "output_type": "execute_result"
    }
   ],
   "source": [
    "len(blend)"
   ]
  },
  {
   "cell_type": "code",
   "execution_count": 46,
   "metadata": {
    "collapsed": false
   },
   "outputs": [
    {
     "data": {
      "text/plain": [
       "[['apple', 'banana'], ['red', 'yellow'], 3]"
      ]
     },
     "execution_count": 46,
     "metadata": {},
     "output_type": "execute_result"
    }
   ],
   "source": [
    "blend"
   ]
  },
  {
   "cell_type": "code",
   "execution_count": 5,
   "metadata": {
    "collapsed": false
   },
   "outputs": [],
   "source": [
    "blend.index?"
   ]
  },
  {
   "cell_type": "code",
   "execution_count": 48,
   "metadata": {
    "collapsed": false
   },
   "outputs": [
    {
     "data": {
      "text/plain": [
       "['Ledon', ['red', 'yellow'], 3]"
      ]
     },
     "execution_count": 48,
     "metadata": {},
     "output_type": "execute_result"
    }
   ],
   "source": [
    "blend[0] = \"Ledon\"\n",
    "blend"
   ]
  },
  {
   "cell_type": "code",
   "execution_count": 51,
   "metadata": {
    "collapsed": false
   },
   "outputs": [
    {
     "name": "stdout",
     "output_type": "stream",
     "text": [
      "(1, 2, 3)\n"
     ]
    },
    {
     "data": {
      "text/plain": [
       "3"
      ]
     },
     "execution_count": 51,
     "metadata": {},
     "output_type": "execute_result"
    }
   ],
   "source": [
    "mytuple = (1,2,3)\n",
    "print mytuple\n",
    "mytuple[2]"
   ]
  },
  {
   "cell_type": "code",
   "execution_count": 52,
   "metadata": {
    "collapsed": false
   },
   "outputs": [
    {
     "ename": "TypeError",
     "evalue": "'tuple' object does not support item assignment",
     "output_type": "error",
     "traceback": [
      "\u001b[0;31m---------------------------------------------------------------------------\u001b[0m",
      "\u001b[0;31mTypeError\u001b[0m                                 Traceback (most recent call last)",
      "\u001b[0;32m<ipython-input-52-9294d9b35abb>\u001b[0m in \u001b[0;36m<module>\u001b[0;34m()\u001b[0m\n\u001b[0;32m----> 1\u001b[0;31m \u001b[0mmytuple\u001b[0m\u001b[0;34m[\u001b[0m\u001b[0;36m1\u001b[0m\u001b[0;34m]\u001b[0m \u001b[0;34m=\u001b[0m \u001b[0;36m3\u001b[0m\u001b[0;34m\u001b[0m\u001b[0m\n\u001b[0m",
      "\u001b[0;31mTypeError\u001b[0m: 'tuple' object does not support item assignment"
     ]
    }
   ],
   "source": [
    "mytuple[1] = 3"
   ]
  },
  {
   "cell_type": "code",
   "execution_count": 60,
   "metadata": {
    "collapsed": false
   },
   "outputs": [
    {
     "name": "stdout",
     "output_type": "stream",
     "text": [
      "x = 3, y = 2\n"
     ]
    }
   ],
   "source": [
    "x, y = 3, 2\n",
    "print \"x = {0}, y = {1}\".format(x, y)"
   ]
  },
  {
   "cell_type": "code",
   "execution_count": null,
   "metadata": {
    "collapsed": true
   },
   "outputs": [],
   "source": [
    "y = x "
   ]
  },
  {
   "cell_type": "code",
   "execution_count": 62,
   "metadata": {
    "collapsed": false
   },
   "outputs": [
    {
     "name": "stdout",
     "output_type": "stream",
     "text": [
      "x = 3, y = 2\n"
     ]
    }
   ],
   "source": [
    "x, y = (y, x)\n",
    "print \"x = {0}, y = {1}\".format(x, y)"
   ]
  },
  {
   "cell_type": "code",
   "execution_count": 63,
   "metadata": {
    "collapsed": false
   },
   "outputs": [
    {
     "data": {
      "text/plain": [
       "1"
      ]
     },
     "execution_count": 63,
     "metadata": {},
     "output_type": "execute_result"
    }
   ],
   "source": [
    "fruit = [ 'apple', 'banana' ]\n",
    "color = [ 'red', 'yellow' ]\n",
    "blend = [ fruit, color ]\n",
    "mylist = [1,2,3,4,5]\n",
    "mylist[0]"
   ]
  },
  {
   "cell_type": "code",
   "execution_count": 65,
   "metadata": {
    "collapsed": false
   },
   "outputs": [
    {
     "data": {
      "text/plain": [
       "[1, 2, 3, 4, 5]"
      ]
     },
     "execution_count": 65,
     "metadata": {},
     "output_type": "execute_result"
    }
   ],
   "source": [
    "mylist"
   ]
  },
  {
   "cell_type": "code",
   "execution_count": 64,
   "metadata": {
    "collapsed": false
   },
   "outputs": [
    {
     "data": {
      "text/plain": [
       "5"
      ]
     },
     "execution_count": 64,
     "metadata": {},
     "output_type": "execute_result"
    }
   ],
   "source": [
    "mylist[-1]"
   ]
  },
  {
   "cell_type": "code",
   "execution_count": 66,
   "metadata": {
    "collapsed": false
   },
   "outputs": [
    {
     "data": {
      "text/plain": [
       "[123, 2, 3, 4, 5]"
      ]
     },
     "execution_count": 66,
     "metadata": {},
     "output_type": "execute_result"
    }
   ],
   "source": [
    "# Lists can be modified\n",
    "mylist[0]=123\n",
    "mylist"
   ]
  },
  {
   "cell_type": "code",
   "execution_count": null,
   "metadata": {
    "collapsed": false
   },
   "outputs": [],
   "source": [
    "# Tuples are immutables\n",
    "mytuple = (1,2,3)\n",
    "mytuple[0]=123"
   ]
  },
  {
   "cell_type": "code",
   "execution_count": 67,
   "metadata": {
    "collapsed": false
   },
   "outputs": [
    {
     "data": {
      "text/plain": [
       "[123, 2]"
      ]
     },
     "execution_count": 67,
     "metadata": {},
     "output_type": "execute_result"
    }
   ],
   "source": [
    "# Slices\n",
    "mylist[0:2]"
   ]
  },
  {
   "cell_type": "code",
   "execution_count": 68,
   "metadata": {
    "collapsed": false
   },
   "outputs": [
    {
     "data": {
      "text/plain": [
       "[123, 2, 3, 4]"
      ]
     },
     "execution_count": 68,
     "metadata": {},
     "output_type": "execute_result"
    }
   ],
   "source": [
    "# Leave the start index blank to imply the first element, leave the end index blank to imply last.\n",
    "mylist[:-1]"
   ]
  },
  {
   "cell_type": "code",
   "execution_count": 69,
   "metadata": {
    "collapsed": false
   },
   "outputs": [
    {
     "name": "stdout",
     "output_type": "stream",
     "text": [
      "{1: 'Alain', 2: 'Ledon'}\n",
      "{'A': 1, 'B': 2, 5: 'Alain'}\n"
     ]
    }
   ],
   "source": [
    "# Create an empty dictionary\n",
    "d = dict()\n",
    "# another way of creating a dictionary\n",
    "d2 = {}\n",
    "d[1] = \"Alain\"\n",
    "d[2] = \"Ledon\"\n",
    "\n",
    "d2[\"A\"] = 1\n",
    "d2[\"B\"] = 2\n",
    "d2[5] = \"Alain\"\n",
    "print d\n",
    "print d2"
   ]
  },
  {
   "cell_type": "code",
   "execution_count": 70,
   "metadata": {
    "collapsed": false
   },
   "outputs": [],
   "source": [
    "d2[10] = \"3\""
   ]
  },
  {
   "cell_type": "code",
   "execution_count": 71,
   "metadata": {
    "collapsed": false
   },
   "outputs": [
    {
     "data": {
      "text/plain": [
       "{5: 'Alain', 10: '3', 'A': 1, 'B': 2}"
      ]
     },
     "execution_count": 71,
     "metadata": {},
     "output_type": "execute_result"
    }
   ],
   "source": [
    "d2"
   ]
  },
  {
   "cell_type": "code",
   "execution_count": 72,
   "metadata": {
    "collapsed": false
   },
   "outputs": [
    {
     "data": {
      "text/plain": [
       "['A', 10, 'B', 5]"
      ]
     },
     "execution_count": 72,
     "metadata": {},
     "output_type": "execute_result"
    }
   ],
   "source": [
    "d2.keys()"
   ]
  },
  {
   "cell_type": "code",
   "execution_count": 73,
   "metadata": {
    "collapsed": false
   },
   "outputs": [
    {
     "data": {
      "text/plain": [
       "[('A', 1), (10, '3'), ('B', 2), (5, 'Alain')]"
      ]
     },
     "execution_count": 73,
     "metadata": {},
     "output_type": "execute_result"
    }
   ],
   "source": [
    "d2.items()"
   ]
  },
  {
   "cell_type": "code",
   "execution_count": 74,
   "metadata": {
    "collapsed": false
   },
   "outputs": [
    {
     "data": {
      "text/plain": [
       "[1, '3', 2, 'Alain']"
      ]
     },
     "execution_count": 74,
     "metadata": {},
     "output_type": "execute_result"
    }
   ],
   "source": [
    "d2.values()"
   ]
  },
  {
   "cell_type": "markdown",
   "metadata": {},
   "source": [
    "# More about Dictionaries\n",
    "\n",
    "[Mapping Types - dict](http://docs.python.org/library/stdtypes.html?highlight=dict#dict)\n",
    "\n",
    "* **Dictionaries** map _hashable_ values to arbitrary objects (_keys_). It defines one-to-one relationships between keys and values.\n",
    "* An object is hashable if it has a hash value which never changes during its lifetime (it needs a __hash__() method), and can be compared to other objects (it needs an __eq__() or __cmp__() method). Hashable objects which compare equal must have the same hash value.\n",
    "* **Dictionaries** are called _hash_, _map_ or _associative arrays_ in other languages.\n",
    "* A dictionary's keys are _almost_ arbitrary values.\n",
    "* Keys must be unique.\n",
    "* The order of insertion is not preserved."
   ]
  },
  {
   "cell_type": "code",
   "execution_count": 76,
   "metadata": {
    "collapsed": false
   },
   "outputs": [],
   "source": [
    "range?"
   ]
  },
  {
   "cell_type": "code",
   "execution_count": 1,
   "metadata": {
    "collapsed": false
   },
   "outputs": [],
   "source": [
    "zip?"
   ]
  },
  {
   "cell_type": "code",
   "execution_count": 78,
   "metadata": {
    "collapsed": false
   },
   "outputs": [
    {
     "name": "stdout",
     "output_type": "stream",
     "text": [
      "{'four': [0, 1, 2], 'three': 3, 'two': 2, 'one': 1}\n",
      "{'two': 2, 'one': 1}\n",
      "{'two': 2, 'one': 1}\n",
      "{'two': 2, 'one': 1}\n",
      "{'two': 2, 'one': 1}\n"
     ]
    }
   ],
   "source": [
    "webster = {}\n",
    "webster = {'one': 1, 'two': 2}\n",
    "webster['three'] = 3\n",
    "webster['four'] = range(3)\n",
    "print webster\n",
    "\n",
    "print dict(one=1, two=2)\n",
    "\n",
    "print dict({'one': 1, 'two': 2})\n",
    "\n",
    "print dict(zip(('one', 'two'), (1, 2)))\n",
    "\n",
    "print dict([['two', 2], ['one', 1]])"
   ]
  },
  {
   "cell_type": "code",
   "execution_count": 79,
   "metadata": {
    "collapsed": false
   },
   "outputs": [
    {
     "name": "stdout",
     "output_type": "stream",
     "text": [
      "1\n",
      "1\n"
     ]
    }
   ],
   "source": [
    "print webster['one']\n",
    "\n",
    "print webster.get('one')"
   ]
  },
  {
   "cell_type": "code",
   "execution_count": 80,
   "metadata": {
    "collapsed": false
   },
   "outputs": [
    {
     "data": {
      "text/plain": [
       "{'four': [0, 1, 2], 'one': 1, 'three': 3, 'two': 2}"
      ]
     },
     "execution_count": 80,
     "metadata": {},
     "output_type": "execute_result"
    }
   ],
   "source": [
    "webster"
   ]
  },
  {
   "cell_type": "code",
   "execution_count": 81,
   "metadata": {
    "collapsed": false
   },
   "outputs": [],
   "source": [
    "del webster['two']"
   ]
  },
  {
   "cell_type": "code",
   "execution_count": 82,
   "metadata": {
    "collapsed": false
   },
   "outputs": [
    {
     "data": {
      "text/plain": [
       "{'four': [0, 1, 2], 'one': 1, 'three': 3}"
      ]
     },
     "execution_count": 82,
     "metadata": {},
     "output_type": "execute_result"
    }
   ],
   "source": [
    "webster"
   ]
  },
  {
   "cell_type": "code",
   "execution_count": null,
   "metadata": {
    "collapsed": false
   },
   "outputs": [],
   "source": [
    "webster = {}\n",
    "webster = {'one': 1, 'two': 2}\n",
    "webster['three'] = 3\n",
    "webster['four'] = range(3)\n",
    "webster"
   ]
  },
  {
   "cell_type": "code",
   "execution_count": null,
   "metadata": {
    "collapsed": false
   },
   "outputs": [],
   "source": [
    "dict(zip(('one', 'two'), (1, 2)))"
   ]
  },
  {
   "cell_type": "markdown",
   "metadata": {},
   "source": [
    "# Flow Control\n",
    "\n",
    "* Flow control statements include _if_, _for_ and _while_\n",
    "* _if_ statements represent conditional statements. They can be nested by using _elif_ and _else_\n",
    "* Python supports one line conditionals\n",
    "* _while_ loops works like in C++ by checking for a True condition\n",
    "* _for_ loops are used to iterate over lists or *iterables*\n",
    "* There are special functions to generate ranges: *range* and *xrange*\n",
    "* Python supports _list comprehensions_"
   ]
  },
  {
   "cell_type": "code",
   "execution_count": 8,
   "metadata": {
    "collapsed": false
   },
   "outputs": [
    {
     "name": "stdout",
     "output_type": "stream",
     "text": [
      "neither 5 nor 22\n",
      "x between 5 and 22\n",
      "x between 5 and 22\n"
     ]
    }
   ],
   "source": [
    "# conditionals\n",
    "x = 10\n",
    "if x == 5:\n",
    "    print \"five\"\n",
    "elif x == 22:\n",
    "    print \"twenty two\"\n",
    "else:\n",
    "    print \"neither 5 nor 22\"\n",
    "\n",
    "if 5 < x and x < 22: # and not or || && || !\n",
    "    print \"x between 5 and 22\"\n",
    "else:\n",
    "    print \"not in range\"\n",
    "    \n",
    "if 5 < x < 22: # and not or || && || !\n",
    "    print \"x between 5 and 22\"\n",
    "else:\n",
    "    print \"not in range\""
   ]
  },
  {
   "cell_type": "code",
   "execution_count": 88,
   "metadata": {
    "collapsed": false
   },
   "outputs": [
    {
     "name": "stdout",
     "output_type": "stream",
     "text": [
      "not five\n"
     ]
    }
   ],
   "source": [
    "# One line conditional\n",
    "# x == 5 ? \"five\" : \"not five\"\n",
    "x = 6\n",
    "result = \"five\" if x == 5 else \"not five\"\n",
    "print result"
   ]
  },
  {
   "cell_type": "code",
   "execution_count": 89,
   "metadata": {
    "collapsed": false
   },
   "outputs": [
    {
     "name": "stdout",
     "output_type": "stream",
     "text": [
      "[0, 1, 2, 3, 4, 5, 6, 7, 8, 9]\n",
      "[1, 2, 3, 4, 5, 6, 7, 8, 9]\n",
      "[0, 2, 4, 6, 8]\n"
     ]
    }
   ],
   "source": [
    "print range(10)\n",
    "print range(1, 10)\n",
    "print range(0, 10, 2)"
   ]
  },
  {
   "cell_type": "code",
   "execution_count": 9,
   "metadata": {
    "collapsed": false
   },
   "outputs": [
    {
     "data": {
      "text/plain": [
       "xrange(10000)"
      ]
     },
     "execution_count": 9,
     "metadata": {},
     "output_type": "execute_result"
    }
   ],
   "source": [
    "xrange(10000) # a list but will not print the exact values of list"
   ]
  },
  {
   "cell_type": "code",
   "execution_count": 90,
   "metadata": {
    "collapsed": false
   },
   "outputs": [
    {
     "data": {
      "text/plain": [
       "{'four': [0, 1, 2], 'one': 1, 'three': 3}"
      ]
     },
     "execution_count": 90,
     "metadata": {},
     "output_type": "execute_result"
    }
   ],
   "source": [
    "webster"
   ]
  },
  {
   "cell_type": "code",
   "execution_count": 91,
   "metadata": {
    "collapsed": false
   },
   "outputs": [
    {
     "data": {
      "text/plain": [
       "[('four', [0, 1, 2]), ('three', 3), ('one', 1)]"
      ]
     },
     "execution_count": 91,
     "metadata": {},
     "output_type": "execute_result"
    }
   ],
   "source": [
    "webster.items()"
   ]
  },
  {
   "cell_type": "code",
   "execution_count": 92,
   "metadata": {
    "collapsed": false
   },
   "outputs": [
    {
     "name": "stdout",
     "output_type": "stream",
     "text": [
      "four -> [0, 1, 2]\n",
      "three -> 3\n",
      "one -> 1\n"
     ]
    }
   ],
   "source": [
    "for k,v in webster.items():\n",
    "    print \"{0} -> {1}\".format(k, v)"
   ]
  },
  {
   "cell_type": "code",
   "execution_count": 98,
   "metadata": {
    "collapsed": false
   },
   "outputs": [
    {
     "name": "stdout",
     "output_type": "stream",
     "text": [
      "0\n",
      "2\n",
      "4\n",
      "6\n",
      "8\n"
     ]
    }
   ],
   "source": [
    "for i in xrange(0, 10, 2):\n",
    "    print i"
   ]
  },
  {
   "cell_type": "code",
   "execution_count": 103,
   "metadata": {
    "collapsed": false
   },
   "outputs": [
    {
     "name": "stdout",
     "output_type": "stream",
     "text": [
      "0\n",
      "1\n",
      "2\n",
      "3\n",
      "4\n",
      "5\n",
      "6\n",
      "7\n",
      "8\n",
      "9\n"
     ]
    }
   ],
   "source": [
    "for i in range(10):\n",
    "    print i\n",
    "    i = i + 4"
   ]
  },
  {
   "cell_type": "code",
   "execution_count": 100,
   "metadata": {
    "collapsed": false
   },
   "outputs": [
    {
     "name": "stdout",
     "output_type": "stream",
     "text": [
      "[0, 1, 2, 3, 4, 5, 6, 7, 8, 9]\n",
      "[0, 1, 2]\n",
      "3\n",
      "1\n"
     ]
    }
   ],
   "source": [
    "rangelist = range(10)\n",
    "print rangelist\n",
    "# help(range)\n",
    "\n",
    "a = [3,4,56,7,8,8,89]\n",
    "for i in webster.iterkeys():\n",
    "    print webster[i]"
   ]
  },
  {
   "cell_type": "code",
   "execution_count": 102,
   "metadata": {
    "collapsed": false
   },
   "outputs": [
    {
     "data": {
      "text/plain": [
       "<dictionary-keyiterator at 0x104816aa0>"
      ]
     },
     "execution_count": 102,
     "metadata": {},
     "output_type": "execute_result"
    }
   ],
   "source": [
    "webster.iterkeys()"
   ]
  },
  {
   "cell_type": "code",
   "execution_count": null,
   "metadata": {
    "collapsed": false
   },
   "outputs": [],
   "source": [
    "# Traversing dictionary keys/values/items\n",
    "\n",
    "# for i in webster:\n",
    "# for i in webster.keys():\n",
    "# for i in webster.iterkeys():\n",
    "# for i in webster.values():\n",
    "# for i in webster.itervalues():\n",
    "# for i in webster.items():\n",
    "# for i in webster.iteritems():"
   ]
  },
  {
   "cell_type": "code",
   "execution_count": 111,
   "metadata": {
    "collapsed": false
   },
   "outputs": [
    {
     "data": {
      "text/plain": [
       "[0, 1, 4, 9, 16, 25, 36, 49, 64, 81]"
      ]
     },
     "execution_count": 111,
     "metadata": {},
     "output_type": "execute_result"
    }
   ],
   "source": [
    "a = [x**2 for x in xrange(10)]\n",
    "a"
   ]
  },
  {
   "cell_type": "code",
   "execution_count": 109,
   "metadata": {
    "collapsed": false
   },
   "outputs": [
    {
     "data": {
      "text/plain": [
       "[0, 1, 2, 1, 2, 3, 2, 3, 4, 3, 4, 5]"
      ]
     },
     "execution_count": 109,
     "metadata": {},
     "output_type": "execute_result"
    }
   ],
   "source": [
    "[x + y for x in range(4) for y in range(3)]"
   ]
  },
  {
   "cell_type": "code",
   "execution_count": 11,
   "metadata": {
    "collapsed": false
   },
   "outputs": [
    {
     "name": "stdout",
     "output_type": "stream",
     "text": [
      "0\n",
      "1\n",
      "2\n",
      "1\n",
      "2\n",
      "3\n",
      "2\n",
      "3\n",
      "4\n",
      "3\n",
      "4\n",
      "5\n"
     ]
    }
   ],
   "source": [
    "for x in range(4):\n",
    "    for y in range(3):\n",
    "        print x+y"
   ]
  },
  {
   "cell_type": "code",
   "execution_count": 110,
   "metadata": {
    "collapsed": false
   },
   "outputs": [
    {
     "data": {
      "text/plain": [
       "[0, 1, 2, 1, 2, 3, 2, 3, 4, 3, 4, 5]"
      ]
     },
     "execution_count": 110,
     "metadata": {},
     "output_type": "execute_result"
    }
   ],
   "source": [
    "aa = []\n",
    "for x in range(4):\n",
    "    for y in range(3):\n",
    "      aa.append(x + y)\n",
    "\n",
    "aa"
   ]
  },
  {
   "cell_type": "code",
   "execution_count": 12,
   "metadata": {
    "collapsed": false
   },
   "outputs": [
    {
     "name": "stdout",
     "output_type": "stream",
     "text": [
      "(1, 2, 4, 5, 7)\n"
     ]
    }
   ],
   "source": [
    "tt = (1,2 ,4,5,7)\n",
    "print tt"
   ]
  },
  {
   "cell_type": "code",
   "execution_count": null,
   "metadata": {
    "collapsed": false
   },
   "outputs": [],
   "source": [
    "tuple?"
   ]
  },
  {
   "cell_type": "code",
   "execution_count": 112,
   "metadata": {
    "collapsed": false
   },
   "outputs": [
    {
     "data": {
      "text/plain": [
       "(0, 1, 2, 3, 4)"
      ]
     },
     "execution_count": 112,
     "metadata": {},
     "output_type": "execute_result"
    }
   ],
   "source": [
    "tuple([i for i in range(5)])"
   ]
  },
  {
   "cell_type": "code",
   "execution_count": 113,
   "metadata": {
    "collapsed": false
   },
   "outputs": [
    {
     "name": "stdout",
     "output_type": "stream",
     "text": [
      "['The', 'quick', 'brown', 'fox', 'jumps', 'over', 'the', 'lazy', 'dog']\n",
      "['THE', 'the', 3]\n",
      "['QUICK', 'quick', 5]\n",
      "['BROWN', 'brown', 5]\n",
      "['FOX', 'fox', 3]\n",
      "['JUMPS', 'jumps', 5]\n",
      "['OVER', 'over', 4]\n",
      "['THE', 'the', 3]\n",
      "['LAZY', 'lazy', 4]\n",
      "['DOG', 'dog', 3]\n"
     ]
    }
   ],
   "source": [
    "# list comprehensions\n",
    "words = 'The quick brown fox jumps over the lazy dog'.split()\n",
    "print words\n",
    "collection = [[w.upper(), w.lower(), len(w)] for w in words]\n",
    "for single_word in collection:\n",
    "    print single_word"
   ]
  },
  {
   "cell_type": "code",
   "execution_count": null,
   "metadata": {
    "collapsed": false
   },
   "outputs": [],
   "source": []
  },
  {
   "cell_type": "markdown",
   "metadata": {},
   "source": [
    "# Functions\n",
    "\n",
    "* Functions are first class citizens in the language, i.e. they are another type\n",
    "* Declare functions with the `def` keyword:\n",
    "* Parameters are passed by reference.\n",
    "* Python supports anonymous functions that can be created at runtime.\n",
    "* [Lambda functions](http://www.secnetix.de/olli/Python/lambda_functions.hawk) functions aren't quite the same as lambda in functional programming but they are powerful constructs in their own right."
   ]
  },
  {
   "cell_type": "code",
   "execution_count": 114,
   "metadata": {
    "collapsed": false
   },
   "outputs": [],
   "source": [
    "def square(val):\n",
    "    \"\"\"\n",
    "    Calculates the square of a number\n",
    "    \n",
    "    Param:\n",
    "    ------\n",
    "    val = number\n",
    "    \n",
    "    Returns:\n",
    "    --------\n",
    "    numbered squared\n",
    "    \"\"\"\n",
    "    return val * val\n",
    "\n",
    "# a comment\n",
    "def times2(val):\n",
    "    \"\"\"\n",
    "    returns val * 2\n",
    "    \"\"\"\n",
    "    return val * 2"
   ]
  },
  {
   "cell_type": "code",
   "execution_count": 124,
   "metadata": {
    "collapsed": false
   },
   "outputs": [
    {
     "data": {
      "text/plain": [
       "'\\n    Calculates the square of a number\\n    \\n    Param:\\n    ------\\n    val = number\\n    \\n    Returns:\\n    --------\\n    numbered squared\\n    '"
      ]
     },
     "execution_count": 124,
     "metadata": {},
     "output_type": "execute_result"
    }
   ],
   "source": [
    "square.__doc__"
   ]
  },
  {
   "cell_type": "code",
   "execution_count": 118,
   "metadata": {
    "collapsed": false
   },
   "outputs": [
    {
     "data": {
      "text/plain": [
       "16"
      ]
     },
     "execution_count": 118,
     "metadata": {},
     "output_type": "execute_result"
    }
   ],
   "source": [
    "square(4)"
   ]
  },
  {
   "cell_type": "code",
   "execution_count": 119,
   "metadata": {
    "collapsed": false
   },
   "outputs": [
    {
     "data": {
      "text/plain": [
       "20"
      ]
     },
     "execution_count": 119,
     "metadata": {},
     "output_type": "execute_result"
    }
   ],
   "source": [
    "times2(10)"
   ]
  },
  {
   "cell_type": "code",
   "execution_count": 121,
   "metadata": {
    "collapsed": false
   },
   "outputs": [
    {
     "data": {
      "text/plain": [
       "[1, 2, 3, 1, 2, 3]"
      ]
     },
     "execution_count": 121,
     "metadata": {},
     "output_type": "execute_result"
    }
   ],
   "source": [
    "times2([1, 2, 3])"
   ]
  },
  {
   "cell_type": "code",
   "execution_count": 120,
   "metadata": {
    "collapsed": false
   },
   "outputs": [
    {
     "data": {
      "text/plain": [
       "'AlainAlain'"
      ]
     },
     "execution_count": 120,
     "metadata": {},
     "output_type": "execute_result"
    }
   ],
   "source": [
    "times2(\"Alain\")"
   ]
  },
  {
   "cell_type": "code",
   "execution_count": null,
   "metadata": {
    "collapsed": false
   },
   "outputs": [],
   "source": [
    "x = times2"
   ]
  },
  {
   "cell_type": "code",
   "execution_count": null,
   "metadata": {
    "collapsed": false
   },
   "outputs": [],
   "source": [
    "x(13)"
   ]
  },
  {
   "cell_type": "code",
   "execution_count": 125,
   "metadata": {
    "collapsed": false
   },
   "outputs": [
    {
     "name": "stdout",
     "output_type": "stream",
     "text": [
      "-5\n",
      "0\n",
      "0.5\n",
      "-1.25\n"
     ]
    }
   ],
   "source": [
    "# Python supports default parameters - They could be tricky for complex variables\n",
    "def do_something(a, b, x=0):\n",
    "    \"\"\"Calculates b / a - x\"\"\"\n",
    "    return b / a - x\n",
    "\n",
    "print do_something(4, 2, 5)\n",
    "print do_something(4, 2)\n",
    "print do_something(4., 2.)\n",
    "\n",
    "# you can pass parameters by name\n",
    "print do_something(x=2., b=3, a=4.)"
   ]
  },
  {
   "cell_type": "code",
   "execution_count": 126,
   "metadata": {
    "collapsed": false
   },
   "outputs": [
    {
     "name": "stdout",
     "output_type": "stream",
     "text": [
      "67 142\n"
     ]
    }
   ],
   "source": [
    "# lambdas\n",
    "def make_incrementor (n): return lambda x: x + n\n",
    "\n",
    "f = make_incrementor(25)\n",
    "g = make_incrementor(100)\n",
    "\n",
    "print f(42), g(42)\n"
   ]
  },
  {
   "cell_type": "code",
   "execution_count": 1,
   "metadata": {
    "collapsed": false
   },
   "outputs": [
    {
     "data": {
      "text/plain": [
       "16"
      ]
     },
     "execution_count": 1,
     "metadata": {},
     "output_type": "execute_result"
    }
   ],
   "source": [
    "# You can use functions as parameters.\n",
    "\n",
    "yy = lambda val : val * val\n",
    "yy(4)"
   ]
  },
  {
   "cell_type": "code",
   "execution_count": 2,
   "metadata": {
    "collapsed": false
   },
   "outputs": [
    {
     "data": {
      "text/plain": [
       "25"
      ]
     },
     "execution_count": 2,
     "metadata": {},
     "output_type": "execute_result"
    }
   ],
   "source": [
    "yy(5)"
   ]
  },
  {
   "cell_type": "code",
   "execution_count": 3,
   "metadata": {
    "collapsed": false
   },
   "outputs": [
    {
     "data": {
      "text/plain": [
       "[1, 4, 9, 16, 25]"
      ]
     },
     "execution_count": 3,
     "metadata": {},
     "output_type": "execute_result"
    }
   ],
   "source": [
    "map(yy, [1, 2, 3, 4, 5])"
   ]
  },
  {
   "cell_type": "code",
   "execution_count": 4,
   "metadata": {
    "collapsed": true
   },
   "outputs": [],
   "source": [
    "# Return multiple values\n",
    "\n",
    "def summult2(a, b):\n",
    "    return a + 2, b * 2"
   ]
  },
  {
   "cell_type": "code",
   "execution_count": 5,
   "metadata": {
    "collapsed": false,
    "scrolled": true
   },
   "outputs": [
    {
     "data": {
      "text/plain": [
       "(5, 8)"
      ]
     },
     "execution_count": 5,
     "metadata": {},
     "output_type": "execute_result"
    }
   ],
   "source": [
    "summult2(3, 4)"
   ]
  },
  {
   "cell_type": "code",
   "execution_count": 7,
   "metadata": {
    "collapsed": false
   },
   "outputs": [
    {
     "name": "stdout",
     "output_type": "stream",
     "text": [
      "12 80\n"
     ]
    }
   ],
   "source": [
    "x, y = summult2(10, 40)\n",
    "\n",
    "print x, y"
   ]
  },
  {
   "cell_type": "code",
   "execution_count": 8,
   "metadata": {
    "collapsed": false
   },
   "outputs": [
    {
     "name": "stdout",
     "output_type": "stream",
     "text": [
      "7\n"
     ]
    }
   ],
   "source": [
    "# You can pass tuples or listst into functions and apply variable expansion using *\n",
    "\n",
    "def sum2(a, b):\n",
    "    return a + b\n",
    "    \n",
    "x = (3, 4)\n",
    "\n",
    "print sum2(*x)"
   ]
  },
  {
   "cell_type": "code",
   "execution_count": 9,
   "metadata": {
    "collapsed": false
   },
   "outputs": [
    {
     "name": "stdout",
     "output_type": "stream",
     "text": [
      "8\n"
     ]
    }
   ],
   "source": [
    "pp = [5, 3]\n",
    "\n",
    "print sum2(*pp)"
   ]
  },
  {
   "cell_type": "markdown",
   "metadata": {},
   "source": [
    "# Variable scope\n",
    "\n",
    "* Python variable scope is better described as function scope. \n",
    "* Variables used in a given function are visible inside that function, not necessarily that code block (same indentation)\n",
    "* If you use the variable name outside a function and re-use it inside a function, the variable is masked, i.e. the old variable becomes hidden\n",
    "* To re-use a variable inside a function, you will need to use the keyword *global*. This is sometimes considered a bad practice"
   ]
  },
  {
   "cell_type": "code",
   "execution_count": 10,
   "metadata": {
    "collapsed": false
   },
   "outputs": [
    {
     "name": "stdout",
     "output_type": "stream",
     "text": [
      "10\n",
      "10\n"
     ]
    }
   ],
   "source": [
    "def fooabs(a):\n",
    "    \"\"\"\n",
    "    Example of variable function scope\n",
    "    \"\"\"\n",
    "    if a > 0:\n",
    "        x = a\n",
    "    else:\n",
    "        x = -a\n",
    "    \n",
    "    return x \n",
    "\n",
    "print fooabs(-10)\n",
    "print fooabs(10)"
   ]
  },
  {
   "cell_type": "code",
   "execution_count": 12,
   "metadata": {
    "collapsed": false
   },
   "outputs": [
    {
     "name": "stdout",
     "output_type": "stream",
     "text": [
      "I think I was masked\n",
      "I think I was masked\n"
     ]
    }
   ],
   "source": [
    "x = \"My String\"\n",
    "\n",
    "def check_hidden():\n",
    "    global x\n",
    "    x = \"I think I was masked\"\n",
    "    return x\n",
    "\n",
    "print check_hidden()\n",
    "print x"
   ]
  },
  {
   "cell_type": "markdown",
   "metadata": {},
   "source": [
    "# Multiple Parameters\n",
    "\n",
    "* Functions can accept un-named multiple parameters by using the positional expansion operator ** * ** .\n",
    "* A parameter name that begins with * gathers arguments into a tuple as they are passed into the functions.\n",
    "* Effectively, the function can expect mutiple parameters and act accordingly."
   ]
  },
  {
   "cell_type": "code",
   "execution_count": 14,
   "metadata": {
    "collapsed": false
   },
   "outputs": [
    {
     "name": "stdout",
     "output_type": "stream",
     "text": [
      "5\n",
      "4\n",
      "3\n",
      "----------\n",
      "5\n",
      "4\n",
      "alain\n"
     ]
    }
   ],
   "source": [
    "def margs(*args):\n",
    "    for p in args:\n",
    "        print p\n",
    "    \n",
    "margs(5, 4, 3)\n",
    "print \"----------\"\n",
    "margs(5, 4, \"alain\") "
   ]
  },
  {
   "cell_type": "markdown",
   "metadata": {},
   "source": [
    "# Keyword Parameters\n",
    "\n",
    "* Functions accept keyword arguments that match the variable name (check [Class 2](class-02-python-2012.html))\n",
    "* Functions can accept multiple keyword parameters as well by using ** operator.\n",
    "* A parameter name that begins with ** will gather arguments into a dictionary as they are passed into the functions.\n",
    "* Keyword parameters must follow positional parameters.\n"
   ]
  },
  {
   "cell_type": "code",
   "execution_count": 15,
   "metadata": {
    "collapsed": false
   },
   "outputs": [
    {
     "name": "stdout",
     "output_type": "stream",
     "text": [
      "parameters | a = 1\n",
      "parameters | c = 3\n",
      "parameters | b = 2\n"
     ]
    }
   ],
   "source": [
    "def mkwargs(first, **kwargs):\n",
    "    for k,v in kwargs.iteritems():\n",
    "        print \"{0} | {1} = {2}\".format(first, k, v)\n",
    "\n",
    "mkwargs(\"parameters\", a=1,b=2,c=3)"
   ]
  },
  {
   "cell_type": "code",
   "execution_count": 16,
   "metadata": {
    "collapsed": false
   },
   "outputs": [
    {
     "name": "stdout",
     "output_type": "stream",
     "text": [
      "This parameter must be passed alain\n",
      "un-named param 0 -> 1\n",
      "un-named param 1 -> 2\n",
      "un-named param 2 -> 3\n",
      "named param four = 4\n",
      "named param six = 6\n",
      "named param five = 5\n"
     ]
    }
   ],
   "source": [
    "# You can combine un-named and named paramters in your function for maximum flexibility.\n",
    "\n",
    "def argorgy(first, *args, **kwargs):\n",
    "    print \"This parameter must be passed {0}\".format(first)\n",
    "    for i, v in enumerate(args):\n",
    "        print \"un-named param {0} -> {1}\".format(i, v)\n",
    "    \n",
    "    for k, v in kwargs.items():\n",
    "        print \"named param {0} = {1}\".format(k, v)\n",
    "\n",
    "argorgy(\"alain\", 1, 2, 3, four=4, five=5, six=6)"
   ]
  },
  {
   "cell_type": "markdown",
   "metadata": {},
   "source": [
    "# Function Overloading\n",
    "\n",
    "* Python doesn't really support overloading as in C++ (same function name different signature)\n",
    "* If you want to overload a function, use multiple parameters"
   ]
  },
  {
   "cell_type": "code",
   "execution_count": 17,
   "metadata": {
    "collapsed": false
   },
   "outputs": [],
   "source": [
    "def overloading(x):\n",
    "    \"\"\"\n",
    "    Returns x + 5\n",
    "    \"\"\"\n",
    "    return x + 5\n",
    "\n",
    "def overloading(x, y=0):\n",
    "    \"\"\"\n",
    "    Returns x + y\n",
    "    \"\"\"\n",
    "    return x + y\n"
   ]
  },
  {
   "cell_type": "code",
   "execution_count": 18,
   "metadata": {
    "collapsed": false
   },
   "outputs": [
    {
     "data": {
      "text/plain": [
       "4"
      ]
     },
     "execution_count": 18,
     "metadata": {},
     "output_type": "execute_result"
    }
   ],
   "source": [
    "overloading(4)"
   ]
  },
  {
   "cell_type": "code",
   "execution_count": 19,
   "metadata": {
    "collapsed": false
   },
   "outputs": [
    {
     "data": {
      "text/plain": [
       "9"
      ]
     },
     "execution_count": 19,
     "metadata": {},
     "output_type": "execute_result"
    }
   ],
   "source": [
    "overloading(4, 5)"
   ]
  },
  {
   "cell_type": "markdown",
   "metadata": {},
   "source": [
    "# Python built-in functions\n",
    "\n",
    "[Built-in functions](http://docs.python.org/library/functions.html)\n",
    "    \n",
    "### Don't re-invent the wheel. Use built-in functions whenever possible "
   ]
  },
  {
   "cell_type": "code",
   "execution_count": 20,
   "metadata": {
    "collapsed": false
   },
   "outputs": [
    {
     "data": {
      "text/plain": [
       "[0, 1, 2, 3, 4, 5, 6, 7, 8, 9]"
      ]
     },
     "execution_count": 20,
     "metadata": {},
     "output_type": "execute_result"
    }
   ],
   "source": [
    "range(10)"
   ]
  },
  {
   "cell_type": "code",
   "execution_count": 21,
   "metadata": {
    "collapsed": false
   },
   "outputs": [
    {
     "data": {
      "text/plain": [
       "9"
      ]
     },
     "execution_count": 21,
     "metadata": {},
     "output_type": "execute_result"
    }
   ],
   "source": [
    "max(range(10))"
   ]
  },
  {
   "cell_type": "code",
   "execution_count": 22,
   "metadata": {
    "collapsed": false
   },
   "outputs": [
    {
     "data": {
      "text/plain": [
       "0"
      ]
     },
     "execution_count": 22,
     "metadata": {},
     "output_type": "execute_result"
    }
   ],
   "source": [
    "min(range(10))"
   ]
  },
  {
   "cell_type": "code",
   "execution_count": 23,
   "metadata": {
    "collapsed": false
   },
   "outputs": [
    {
     "data": {
      "text/plain": [
       "False"
      ]
     },
     "execution_count": 23,
     "metadata": {},
     "output_type": "execute_result"
    }
   ],
   "source": [
    "all(range(10))"
   ]
  },
  {
   "cell_type": "code",
   "execution_count": 24,
   "metadata": {
    "collapsed": false
   },
   "outputs": [
    {
     "data": {
      "text/plain": [
       "True"
      ]
     },
     "execution_count": 24,
     "metadata": {},
     "output_type": "execute_result"
    }
   ],
   "source": [
    "any(range(10))"
   ]
  },
  {
   "cell_type": "code",
   "execution_count": 25,
   "metadata": {
    "collapsed": false
   },
   "outputs": [
    {
     "data": {
      "text/plain": [
       "5050"
      ]
     },
     "execution_count": 25,
     "metadata": {},
     "output_type": "execute_result"
    }
   ],
   "source": [
    "sum(range(1,101))"
   ]
  },
  {
   "cell_type": "code",
   "execution_count": 14,
   "metadata": {
    "collapsed": true
   },
   "outputs": [],
   "source": [
    "def fact(x):\n",
    "    \"\"\"Recursive factorial\"\"\"\n",
    "    return x * fact(x - 1) if x > 1 else 1"
   ]
  },
  {
   "cell_type": "code",
   "execution_count": 16,
   "metadata": {
    "collapsed": false
   },
   "outputs": [
    {
     "data": {
      "text/plain": [
       "3628800"
      ]
     },
     "execution_count": 16,
     "metadata": {},
     "output_type": "execute_result"
    }
   ],
   "source": [
    "fact(10)"
   ]
  },
  {
   "cell_type": "code",
   "execution_count": 17,
   "metadata": {
    "collapsed": true
   },
   "outputs": [],
   "source": [
    "def fact(x):\n",
    "    \"\"\"\n",
    "        Returns the factorial of x\n",
    "    \"\"\"\n",
    "    if x == 0: return 1\n",
    "    \n",
    "    product = 1\n",
    "    for i in xrange(1, x+1):\n",
    "        product = i * product\n",
    "    \n",
    "    return product"
   ]
  },
  {
   "cell_type": "code",
   "execution_count": 19,
   "metadata": {
    "collapsed": false
   },
   "outputs": [
    {
     "name": "stdout",
     "output_type": "stream",
     "text": [
      "93326215443944152681699238856266700490715968264381621468592963895217599993229915608941463976156518286253697920827223758251185210916864000000000000000000000000\n"
     ]
    }
   ],
   "source": [
    "print fact(100)"
   ]
  },
  {
   "cell_type": "code",
   "execution_count": 23,
   "metadata": {
    "collapsed": true
   },
   "outputs": [],
   "source": [
    "def fff(x):    # in python functions are call-by-reference. x is a const reference\n",
    "    x=5\n",
    "    return x + 2"
   ]
  },
  {
   "cell_type": "code",
   "execution_count": 22,
   "metadata": {
    "collapsed": false
   },
   "outputs": [
    {
     "name": "stdout",
     "output_type": "stream",
     "text": [
      "7\n",
      "[1, 2, 3]\n"
     ]
    }
   ],
   "source": [
    "a = [1, 2, 3]\n",
    "print fff(a)\n",
    "print a"
   ]
  },
  {
   "cell_type": "code",
   "execution_count": 40,
   "metadata": {
    "collapsed": false
   },
   "outputs": [
    {
     "data": {
      "text/plain": [
       "93326215443944152681699238856266700490715968264381621468592963895217599993229915608941463976156518286253697920827223758251185210916864000000000000000000000000L"
      ]
     },
     "execution_count": 40,
     "metadata": {},
     "output_type": "execute_result"
    }
   ],
   "source": [
    "reduce(lambda x,y: x * y, range(1,100 + 1), 1) # 100!"
   ]
  },
  {
   "cell_type": "code",
   "execution_count": 42,
   "metadata": {
    "collapsed": false
   },
   "outputs": [
    {
     "data": {
      "text/plain": [
       "[1, 4, 9, 16, 25, 36, 49, 64, 81]"
      ]
     },
     "execution_count": 42,
     "metadata": {},
     "output_type": "execute_result"
    }
   ],
   "source": [
    "map(lambda x: x * x, range(1,10))  # similar to R apply function"
   ]
  },
  {
   "cell_type": "code",
   "execution_count": 43,
   "metadata": {
    "collapsed": false
   },
   "outputs": [
    {
     "data": {
      "text/plain": [
       "[1, 3, 5, 7, 9]"
      ]
     },
     "execution_count": 43,
     "metadata": {},
     "output_type": "execute_result"
    }
   ],
   "source": [
    "filter(lambda x: x % 2 != 0, range(10))"
   ]
  },
  {
   "cell_type": "code",
   "execution_count": null,
   "metadata": {
    "collapsed": false
   },
   "outputs": [],
   "source": []
  },
  {
   "cell_type": "markdown",
   "metadata": {},
   "source": [
    "# References\n",
    "\n",
    "* [A Byte of Python](http://www.ibiblio.org/swaroopch/byteofpython/read/)\n",
    "* [Learn Python The Hard Way](http://learnpythonthehardway.org/book/)\n",
    "* [Free Python Books](http://pythonbooks.revolunet.com/)\n",
    "* [PEP 8 -- Style Guide for Python Code](http://www.python.org/dev/peps/pep-0008/)\n",
    "* [Code Like a Pythonista: Idiomatic Python](http://python.net/~goodger/projects/pycon/2007/idiomatic/handout.html)\n",
    "* [Python 2.x Documentation](http://docs.python.org/)\n",
    "* [Google python](http://lmgtfy.com/?q=python)\n"
   ]
  },
  {
   "cell_type": "markdown",
   "metadata": {},
   "source": [
    "# Importing modules\n",
    "\n",
    "Python has an enormous collection of libraries. For example\n",
    "\n",
    "* Built-in modules - [PyMOTW](http://www.doughellmann.com/PyMOTW/genindex.html)\n",
    "* [NumPy](http://numpy.scipy.org/) - linear algebra, Fourier transform, and C++/Fortran integration (today)\n",
    "* [SciPy](http://scipy.org/) - Extends NumPy with optimization, ODE solvers, signal processing (later)\n",
    "* [pandas](http://pandas.pydata.org/) - Practical, real-world statistical analysis (hopefully \"Straight from the horse's mouth\")\n",
    "* [xlrd](https://secure.simplistix.co.uk/svn/xlrd/trunk/xlrd/doc/xlrd.html) - for reading excel files\n",
    "* much more... [PyPi](http://pypi.python.org/pypi)\n",
    "\n",
    "## How to install a package\n",
    "\n",
    "* There are variuos ways to install a package\n",
    "* Some systems come with python packages already in their repositories and you can use a tool like *apt-get* or *yum*. \n",
    "* You can use python installation tools *pip* or *easy_install*. The former is the preferred method\n",
    "* You can install from source. This will be the bleeding edge. Run at your own risk\n",
    "\n",
    "To install a package on your system\n",
    "\n",
    "    sudo pip install scipy\n",
    "    # if you are behind a proxy\n",
    "    sudo pip install --proxy <proxy url> <package name>\n",
    "\n",
    "To update a package\n",
    "\n",
    "    sudo pip install -u scipy\n",
    "\n",
    "To install a package in Anaconda\n",
    "    \n",
    "    conda install <pacakge name>\n",
    "    \n",
    "If it doesn't exist, use *pip*"
   ]
  },
  {
   "cell_type": "code",
   "execution_count": 44,
   "metadata": {
    "collapsed": false
   },
   "outputs": [
    {
     "name": "stdout",
     "output_type": "stream",
     "text": [
      "146\n"
     ]
    }
   ],
   "source": [
    "# Remember to explore what others have written before writing something from scratch!\n",
    "\n",
    "import random\n",
    "randomint = random.randint(1,500)\n",
    "print randomint"
   ]
  },
  {
   "cell_type": "code",
   "execution_count": 47,
   "metadata": {
    "collapsed": false
   },
   "outputs": [
    {
     "name": "stdout",
     "output_type": "stream",
     "text": [
      "150\n"
     ]
    }
   ],
   "source": [
    "randomint = random.randint(1,500)\n",
    "print randomint"
   ]
  },
  {
   "cell_type": "code",
   "execution_count": 48,
   "metadata": {
    "collapsed": false
   },
   "outputs": [
    {
     "data": {
      "text/plain": [
       "[229, 318, 273, 217, 323, 491, 340, 76, 419, 476]"
      ]
     },
     "execution_count": 48,
     "metadata": {},
     "output_type": "execute_result"
    }
   ],
   "source": [
    "[random.randint(1, 500) for x in xrange(10)] "
   ]
  },
  {
   "cell_type": "code",
   "execution_count": 49,
   "metadata": {
    "collapsed": false
   },
   "outputs": [
    {
     "name": "stdout",
     "output_type": "stream",
     "text": [
      "2015-10-05\n"
     ]
    },
    {
     "data": {
      "text/plain": [
       "datetime.datetime(2013, 9, 25, 0, 0)"
      ]
     },
     "execution_count": 49,
     "metadata": {},
     "output_type": "execute_result"
    }
   ],
   "source": [
    "from datetime import date\n",
    "print date.today()\n",
    "\n",
    "from datetime import timedelta as td\n",
    "date.today() + td(days=10)\n",
    "\n",
    "import datetime as dt\n",
    "dt.datetime.strptime(\"20130925\", \"%Y%m%d\")"
   ]
  },
  {
   "cell_type": "code",
   "execution_count": null,
   "metadata": {
    "collapsed": false
   },
   "outputs": [],
   "source": [
    "# File I/O\n",
    "# Accessing the file system with Python is _easy_!\n",
    "\n",
    "myfile = open(\"/tmp/data.txt\",\"w\")\n",
    "myfile.write(\"this is some important data\")\n",
    "myfile.close()\n",
    "\n",
    "# let's read it\n",
    "readfile = open(\"/tmp/data.txt\",\"r\")\n",
    "print readfile.readlines()\n",
    "\n",
    "readfile.close()"
   ]
  },
  {
   "cell_type": "markdown",
   "metadata": {},
   "source": [
    "# Python Shells\n",
    "\n",
    "Python has two excellent shells for REPL [Read, evaluate, print loop](http://en.wikipedia.org/wiki/Read-eval-print_loop).\n",
    "\n",
    "## IPython\n",
    "\n",
    "* Interactive data visualization (graphing)\n",
    "* Parallel computing\n",
    "* Extensive inline help system\n",
    "\n",
    "## bpython \n",
    "\n",
    "* In-line syntax highlighting\n",
    "* Autocomplete\n",
    "* Parameter hints\n",
    "* \"Rewind\" function\n",
    "* Share snippets via Pastebin"
   ]
  },
  {
   "cell_type": "markdown",
   "metadata": {},
   "source": [
    "# Python and Eclipse\n",
    "\n",
    "Eclipse supports a full environment for Python development, pydev.\n",
    "\n",
    "[http://pydev.org/](http://pydev.org/)\n",
    "\n",
    "It includes:\n",
    "\n",
    "* Code completion\n",
    "* Syntax highlighting\n",
    "* Code Analysis\n",
    "* Debugging\n",
    "* Interactive Console\n",
    "* Unit testing and more...\n",
    "\n",
    "Install it using Eclipse Update Manager using this link:\n",
    "\n",
    "[http://pydev.org/updates](http://pydev.org/updates)"
   ]
  },
  {
   "cell_type": "markdown",
   "metadata": {},
   "source": [
    "# Runnning a Python Script\n",
    "\n",
    "To run a script make sure you have a __\\_\\_name\\_\\___ conditional\n",
    "\n",
    "    if __name__ == '__main__':\n",
    "        print 'Hello World'\n",
    "\n",
    "[http://pydev.org/manual_101_run.html](http://pydev.org/manual_101_run.html)"
   ]
  },
  {
   "cell_type": "code",
   "execution_count": null,
   "metadata": {
    "collapsed": false
   },
   "outputs": [],
   "source": [
    "for i in \"Alain\":\n",
    "    print i"
   ]
  },
  {
   "cell_type": "code",
   "execution_count": 127,
   "metadata": {
    "collapsed": false
   },
   "outputs": [],
   "source": [
    "def ff(x):\n",
    "    x = 4"
   ]
  },
  {
   "cell_type": "code",
   "execution_count": 128,
   "metadata": {
    "collapsed": true
   },
   "outputs": [],
   "source": [
    "nn = 3\n",
    "ff(nn)"
   ]
  },
  {
   "cell_type": "code",
   "execution_count": 129,
   "metadata": {
    "collapsed": false
   },
   "outputs": [
    {
     "name": "stdout",
     "output_type": "stream",
     "text": [
      "3\n"
     ]
    }
   ],
   "source": [
    "print nn"
   ]
  },
  {
   "cell_type": "code",
   "execution_count": null,
   "metadata": {
    "collapsed": true
   },
   "outputs": [],
   "source": []
  }
 ],
 "metadata": {
  "anaconda-cloud": {},
  "kernelspec": {
   "display_name": "Python [Root]",
   "language": "python",
   "name": "Python [Root]"
  },
  "language_info": {
   "codemirror_mode": {
    "name": "ipython",
    "version": 2
   },
   "file_extension": ".py",
   "mimetype": "text/x-python",
   "name": "python",
   "nbconvert_exporter": "python",
   "pygments_lexer": "ipython2",
   "version": "2.7.12"
  }
 },
 "nbformat": 4,
 "nbformat_minor": 0
}
