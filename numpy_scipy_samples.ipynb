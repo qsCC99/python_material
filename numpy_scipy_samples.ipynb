{
 "cells": [
  {
   "cell_type": "code",
   "execution_count": null,
   "metadata": {
    "collapsed": true
   },
   "outputs": [],
   "source": [
    "%matplotlib inline\n",
    "from __future__ import print_function, division, absolute_import\n",
    "import numpy as np\n",
    "import scipy as sp"
   ]
  },
  {
   "cell_type": "markdown",
   "metadata": {},
   "source": [
    "## More numpy examples"
   ]
  },
  {
   "cell_type": "code",
   "execution_count": null,
   "metadata": {
    "collapsed": false
   },
   "outputs": [],
   "source": [
    "x = np.array([[1,2,3],[3,4,6]])\n",
    "x"
   ]
  },
  {
   "cell_type": "code",
   "execution_count": null,
   "metadata": {
    "collapsed": false
   },
   "outputs": [],
   "source": [
    "np.size(x) # number of data items"
   ]
  },
  {
   "cell_type": "code",
   "execution_count": null,
   "metadata": {
    "collapsed": false
   },
   "outputs": [],
   "source": [
    "np.size(x,1) # show number of columns"
   ]
  },
  {
   "cell_type": "code",
   "execution_count": null,
   "metadata": {
    "collapsed": false
   },
   "outputs": [],
   "source": [
    "np.std(x)"
   ]
  },
  {
   "cell_type": "code",
   "execution_count": null,
   "metadata": {
    "collapsed": false
   },
   "outputs": [],
   "source": [
    "np.std(x,1)"
   ]
  },
  {
   "cell_type": "code",
   "execution_count": null,
   "metadata": {
    "collapsed": false
   },
   "outputs": [],
   "source": [
    "x.sum() # pay attention to the format"
   ]
  },
  {
   "cell_type": "code",
   "execution_count": null,
   "metadata": {
    "collapsed": false
   },
   "outputs": [],
   "source": [
    "z = np.random.rand(50)    # 50 random obs from [0.0, 1)\n",
    "z"
   ]
  },
  {
   "cell_type": "code",
   "execution_count": null,
   "metadata": {
    "collapsed": false
   },
   "outputs": [],
   "source": [
    "np.random.normal(size=100) # from standard normal"
   ]
  },
  {
   "cell_type": "code",
   "execution_count": null,
   "metadata": {
    "collapsed": false
   },
   "outputs": [],
   "source": [
    "np.array(range(0,100),float)/100 # from 0, .01,to .99"
   ]
  },
  {
   "cell_type": "markdown",
   "metadata": {},
   "source": [
    "Compared with a Python array, a NumPy array is a contiguous piece of memory that\n",
    "is passed directly to **LAPACK**, which is a software library for numerical linear algebra,\n",
    "under the hood so that matrix manipulation is very fast in Python. Unlike lists in Python, an array should contain the\n",
    "same data type."
   ]
  },
  {
   "cell_type": "code",
   "execution_count": null,
   "metadata": {
    "collapsed": false
   },
   "outputs": [],
   "source": [
    "np.array([100,0.1,2],float)"
   ]
  },
  {
   "cell_type": "code",
   "execution_count": null,
   "metadata": {
    "collapsed": false
   },
   "outputs": [],
   "source": [
    "x = [1,2,3,20]\n",
    "np.array(x, dtype=float)"
   ]
  },
  {
   "cell_type": "code",
   "execution_count": null,
   "metadata": {
    "collapsed": false
   },
   "outputs": [],
   "source": [
    "x = [1, 2, 3, \"good\"]\n",
    "np.array(x, dtype=float)"
   ]
  },
  {
   "cell_type": "code",
   "execution_count": null,
   "metadata": {
    "collapsed": false
   },
   "outputs": [],
   "source": [
    "# array with 10 zeros\n",
    "a = np.zeros(10) \n",
    "print(a)"
   ]
  },
  {
   "cell_type": "code",
   "execution_count": null,
   "metadata": {
    "collapsed": false
   },
   "outputs": [],
   "source": [
    "# 3 by 2 with zeros\n",
    "b = np.zeros((3, 2), dtype=float) \n",
    "print(b)"
   ]
  },
  {
   "cell_type": "code",
   "execution_count": null,
   "metadata": {
    "collapsed": false
   },
   "outputs": [],
   "source": [
    "# 4 by 3 with all ones\n",
    "c = np.ones((4, 3), float) \n",
    "print(c)"
   ]
  },
  {
   "cell_type": "code",
   "execution_count": null,
   "metadata": {
    "collapsed": false
   },
   "outputs": [],
   "source": [
    " # 0,1, 2,3 .. up to 9\n",
    "d = np.array(range(10), float)\n",
    "print(d)"
   ]
  },
  {
   "cell_type": "code",
   "execution_count": null,
   "metadata": {
    "collapsed": false
   },
   "outputs": [],
   "source": [
    "# identity 4 by 4 matrix\n",
    "e1 = np.identity(4) \n",
    "print(e1)"
   ]
  },
  {
   "cell_type": "code",
   "execution_count": null,
   "metadata": {
    "collapsed": false
   },
   "outputs": [],
   "source": [
    "# same as above\n",
    "e2 = np.eye(4) \n",
    "print(e2)"
   ]
  },
  {
   "cell_type": "code",
   "execution_count": null,
   "metadata": {
    "collapsed": false
   },
   "outputs": [],
   "source": [
    "# 1 start from k\n",
    "e3 = np.eye(4, k=1) \n",
    "print(e3)"
   ]
  },
  {
   "cell_type": "code",
   "execution_count": null,
   "metadata": {
    "collapsed": false
   },
   "outputs": [],
   "source": [
    "# from 1 to 19 interval 3\n",
    "f = np.arange(1, 20, 3, float) \n",
    "print(f)"
   ]
  },
  {
   "cell_type": "code",
   "execution_count": null,
   "metadata": {
    "collapsed": false
   },
   "outputs": [],
   "source": [
    "# 2 by 3\n",
    "g = np.array([[2, 2, 2], [3, 3, 3]]) \n",
    "print(g)"
   ]
  },
  {
   "cell_type": "code",
   "execution_count": null,
   "metadata": {
    "collapsed": false
   },
   "outputs": [],
   "source": [
    "# all zeros\n",
    "h = np.zeros_like(g) \n",
    "print(h)"
   ]
  },
  {
   "cell_type": "code",
   "execution_count": null,
   "metadata": {
    "collapsed": false
   },
   "outputs": [],
   "source": [
    "# all ones\n",
    "i = np.ones_like(g) \n",
    "print(i)"
   ]
  },
  {
   "cell_type": "code",
   "execution_count": null,
   "metadata": {
    "collapsed": false
   },
   "outputs": [],
   "source": [
    "np.linspace(0, 5, 11)"
   ]
  },
  {
   "cell_type": "code",
   "execution_count": null,
   "metadata": {
    "collapsed": true
   },
   "outputs": [],
   "source": []
  },
  {
   "cell_type": "markdown",
   "metadata": {},
   "source": [
    "## More scipy examples"
   ]
  },
  {
   "cell_type": "markdown",
   "metadata": {},
   "source": [
    "The **np.npv()** function estimates the present values for a given set of future cash flows. The first input value is the discount rate, and the second input is an array of\n",
    "future cash flows. This **np.npv()** function mimics Excel's NPV function. It estimates the\n",
    "present value of future cash flows by assuming the first cash flow happens at the end of the first period."
   ]
  },
  {
   "cell_type": "markdown",
   "metadata": {},
   "source": [
    "$NPV = \\sum_{t=0}^{M-1}{\\frac{values_t}{(1+rate)^{t}}}$"
   ]
  },
  {
   "cell_type": "code",
   "execution_count": null,
   "metadata": {
    "collapsed": false
   },
   "outputs": [],
   "source": [
    "cashflows = [50, 40, 20, 10, 50]\n",
    "npv = sp.npv(0.1, cashflows)      #estimate NPV\n",
    "round(npv, 2)"
   ]
  },
  {
   "cell_type": "markdown",
   "metadata": {},
   "source": [
    "What is the monthly cash flow to pay off a mortgage of $250,000 over 30 years with an annual percentage\n",
    "rate (APR) of 4.5 percent, compounded monthly?\n",
    "\n",
    "The **sp.pmt()** function mimics the equivalent function in Excel."
   ]
  },
  {
   "cell_type": "code",
   "execution_count": null,
   "metadata": {
    "collapsed": false
   },
   "outputs": [],
   "source": [
    "payment = sp.pmt(0.045/12, 30*12, -250000)\n",
    "round(payment, 2)"
   ]
  },
  {
   "cell_type": "code",
   "execution_count": null,
   "metadata": {
    "collapsed": true
   },
   "outputs": [],
   "source": [
    "sp.pv?"
   ]
  },
  {
   "cell_type": "code",
   "execution_count": null,
   "metadata": {
    "collapsed": false
   },
   "outputs": [],
   "source": [
    "a = [2, 3, 4, 6, 6, 4, 4]\n",
    "print(\"Unique values = {}\".format(sp.unique(a)))\n",
    "print(\"Mean = {}\".format(sp.mean(a)))"
   ]
  },
  {
   "cell_type": "code",
   "execution_count": null,
   "metadata": {
    "collapsed": false
   },
   "outputs": [],
   "source": [
    "sp.random.rand(10) # 10 random numbers from [0,1)"
   ]
  },
  {
   "cell_type": "code",
   "execution_count": null,
   "metadata": {
    "collapsed": false
   },
   "outputs": [],
   "source": [
    "sp.random.rand(5,2) # random numbers 5 by 2 array"
   ]
  },
  {
   "cell_type": "code",
   "execution_count": null,
   "metadata": {
    "collapsed": false
   },
   "outputs": [],
   "source": [
    "sp.random.normal(size=10) # from a standard normal"
   ]
  },
  {
   "cell_type": "code",
   "execution_count": null,
   "metadata": {
    "collapsed": false
   },
   "outputs": [],
   "source": [
    "np.random.standard_normal(10)"
   ]
  },
  {
   "cell_type": "code",
   "execution_count": null,
   "metadata": {
    "collapsed": false
   },
   "outputs": [],
   "source": [
    "sp.random.seed(12456)\n",
    "sp.random.normal(size=10) # from a standard normal"
   ]
  },
  {
   "cell_type": "code",
   "execution_count": null,
   "metadata": {
    "collapsed": true
   },
   "outputs": [],
   "source": [
    "import scipy.optimize as optimize"
   ]
  },
  {
   "cell_type": "code",
   "execution_count": null,
   "metadata": {
    "collapsed": true
   },
   "outputs": [],
   "source": [
    "optimize.fmin?"
   ]
  },
  {
   "cell_type": "code",
   "execution_count": null,
   "metadata": {
    "collapsed": false
   },
   "outputs": [],
   "source": [
    "def my_f(x):\n",
    "    return 3 + x**2\n",
    "\n",
    "optimize.fmin(my_f, 5) # 5 is initial value"
   ]
  },
  {
   "cell_type": "code",
   "execution_count": null,
   "metadata": {
    "collapsed": false
   },
   "outputs": [],
   "source": [
    "optimize.fsolve(my_f, 5) # 5 is initial value"
   ]
  },
  {
   "cell_type": "code",
   "execution_count": null,
   "metadata": {
    "collapsed": true
   },
   "outputs": [],
   "source": [
    "optimize.fsolve?"
   ]
  },
  {
   "cell_type": "code",
   "execution_count": null,
   "metadata": {
    "collapsed": true
   },
   "outputs": [],
   "source": [
    "from scipy import log, exp, sqrt, stats"
   ]
  },
  {
   "cell_type": "markdown",
   "metadata": {},
   "source": [
    "## CAPM\n",
    "\n",
    "$R_i - R_f = a + \\beta_i(R_{mkt}-R_f)$\n",
    "\n",
    "This is basically a linear regression:\n",
    "\n",
    "$y = \\alpha + \\beta * x$"
   ]
  },
  {
   "cell_type": "code",
   "execution_count": null,
   "metadata": {
    "collapsed": false
   },
   "outputs": [],
   "source": [
    "stock_ret = [0.065, 0.0265, -0.0593, -0.001, 0.0346]\n",
    "mkt_ret = [0.055, -0.09, -0.041, 0.045, 0.022]\n",
    "\n",
    "beta, alpha, r_value, p_value, std_err = stats.linregress(stock_ret,mkt_ret)\n",
    "\n",
    "print(\"beta = {beta}, alpha = {alpha}\".format(beta=beta, alpha=alpha))\n",
    "print(\"R-squared = {}\".format(r_value**2))\n",
    "print(\"p-value = {}\".format(p_value))"
   ]
  },
  {
   "cell_type": "code",
   "execution_count": null,
   "metadata": {
    "collapsed": true
   },
   "outputs": [],
   "source": [
    "def bs_call(S, K, T, r, sigma):\n",
    "    \"\"\"\n",
    "    Objective: estimate Black-Scholes-Merton call price\n",
    "    S: stock price\n",
    "    K: strike\n",
    "    T: maturity date in years\n",
    "    r: risk-free rate\n",
    "    sigma: standard deviation of returns\n",
    "    \n",
    "    Example:\n",
    "    >>> p = bs_call(20, 20, 0.5, 0.05, 0.15)\n",
    "    1.10542302373\n",
    "    \"\"\"\n",
    "    d1 = (log(S / K) + (r + sigma * sigma / 2.) * T) / (sigma * sqrt(T))\n",
    "    d2 = d1 - sigma * sqrt(T)\n",
    "    return S * stats.norm.cdf(d1) - K * exp(-r * T) * stats.norm.cdf(d2)"
   ]
  },
  {
   "cell_type": "code",
   "execution_count": null,
   "metadata": {
    "collapsed": false
   },
   "outputs": [],
   "source": [
    "bs_call(20, 20, 1, 0.03, 0.2)"
   ]
  },
  {
   "cell_type": "markdown",
   "metadata": {},
   "source": [
    "## Matplotlib examples"
   ]
  },
  {
   "cell_type": "code",
   "execution_count": null,
   "metadata": {
    "collapsed": true
   },
   "outputs": [],
   "source": [
    "import matplotlib.pyplot as plt"
   ]
  },
  {
   "cell_type": "code",
   "execution_count": null,
   "metadata": {
    "collapsed": false
   },
   "outputs": [],
   "source": [
    "plt.plot([1, 2, 3, 10])"
   ]
  },
  {
   "cell_type": "code",
   "execution_count": null,
   "metadata": {
    "collapsed": false
   },
   "outputs": [],
   "source": [
    "plt.plot([1,2,3,10])\n",
    "plt.xlabel(\"x- axis\")\n",
    "plt.ylabel(\"my numbers\")\n",
    "plt.title(\"my figure\")"
   ]
  },
  {
   "cell_type": "code",
   "execution_count": null,
   "metadata": {
    "collapsed": false
   },
   "outputs": [],
   "source": [
    "x = np.linspace(-np.pi, np.pi, 256,endpoint=True)\n",
    "C,S = np.cos(x), np.sin(x)\n",
    "plt.plot(x,C)\n",
    "plt.plot(x,S)"
   ]
  },
  {
   "cell_type": "code",
   "execution_count": null,
   "metadata": {
    "collapsed": false
   },
   "outputs": [],
   "source": [
    "n = 1024\n",
    "X = np.random.normal(0,1,n)\n",
    "Y = np.random.normal(0,1,n)\n",
    "plt.scatter(X,Y)"
   ]
  },
  {
   "cell_type": "markdown",
   "metadata": {},
   "source": [
    "$FV (simple\\ interest) = PV (1+ R_\u001bn)$\n",
    "\n",
    "$FV (compounded\\ interest) = PV (1 + R)^n$"
   ]
  },
  {
   "cell_type": "code",
   "execution_count": null,
   "metadata": {
    "collapsed": false
   },
   "outputs": [],
   "source": [
    "pv = 1000\n",
    "r = 0.08\n",
    "n = 10\n",
    "t = np.linspace(0, n, n)\n",
    "y1 = np.ones(len(t)) * pv\n",
    "y2 = pv * (1 + r * t)\n",
    "y3 = pv * (1 + r) ** t\n",
    "plt.title('Simple vs. compounded interest rates')\n",
    "plt.xlabel('Number of years')\n",
    "plt.ylabel('Values')\n",
    "plt.xlim(0, 11)\n",
    "plt.ylim(800, 2200)\n",
    "plt.plot(t, y1, 'b-')\n",
    "plt.plot(t, y2, 'g--')\n",
    "plt.plot(t, y3, 'r-')"
   ]
  },
  {
   "cell_type": "code",
   "execution_count": null,
   "metadata": {
    "collapsed": false
   },
   "outputs": [],
   "source": [
    "# adding text\n",
    "x = [0, 1, 2]\n",
    "y = [2, 4, 6]\n",
    "plt.plot(x,y)\n",
    "plt.figtext(0.2, 0.7, 'North & West')\n",
    "plt.figtext(0.7, 0.2, 'East & South')"
   ]
  },
  {
   "cell_type": "markdown",
   "metadata": {},
   "source": [
    "Ratio analysis is one of the commonly used tools to compare the performance among different firms and for the same firm over the years. DuPont identity is one of them. DuPont\n",
    "identity divides **Return on Equity (ROE)** into three ratios: Gross Profit Margin, Assets Turnover, and Equity Multiplier:\n",
    "\n",
    "$ROE=\\frac{Net\\ Income}{Sales} * \\frac{Sales}{Total\\ Assets} * \\frac{Total\\ Assets}{Book\\ Value}$"
   ]
  },
  {
   "cell_type": "code",
   "execution_count": null,
   "metadata": {
    "collapsed": false
   },
   "outputs": [],
   "source": [
    "ind = np.arange(3)\n",
    "plt.title(\"DuPont Identity\")\n",
    "plt.xlabel(\"Different companies\")\n",
    "plt.ylabel(\"Three ratios\")\n",
    "ROE = [0.88, 0.22, 0.22]\n",
    "a = [0.16, 0.04, 0.036]\n",
    "b = [0.88, 1.12, 2.31]\n",
    "c = [6.32, 4.45, 2.66]\n",
    "width = 0.45\n",
    "plt.figtext(0.2, 0.85, \"ROE=0.88\")\n",
    "\n",
    "plt.figtext(0.5, 0.7, \"ROE=0.22\")\n",
    "plt.figtext(0.8, 0.6, \"ROE=0.22\")\n",
    "plt.figtext(0.2, 0.75, \"Profit Margin=0.16\")\n",
    "plt.figtext(0.5, 0.5, \"0.041\")\n",
    "plt.figtext(0.8, 0.4, \"0.036\")\n",
    "p1 = plt.bar(ind, a, width, color='b')\n",
    "p2 = plt.bar(ind, b, width, color='r', bottom=a)\n",
    "p3 = plt.bar(ind, c, width, color='y', bottom=np.array(a) + np.array(b))\n",
    "\n",
    "t = plt.xticks(ind + width / 2., ('IBM', 'DELL', 'WMT'))"
   ]
  },
  {
   "cell_type": "markdown",
   "metadata": {},
   "source": [
    "## Options Examples"
   ]
  },
  {
   "cell_type": "code",
   "execution_count": null,
   "metadata": {
    "collapsed": false
   },
   "outputs": [],
   "source": [
    "def payoff_call(stock, strike):\n",
    "    \"\"\"Objective: estimate payoff of a call\n",
    "       stock: terminal price\n",
    "        strike: exercise price\n",
    "        Examples\n",
    "        >>> payoff_call(50,40)\n",
    "        10\n",
    "        >>> payoff_call(35,40)\n",
    "        0\n",
    "        >>> \n",
    "    \"\"\"\n",
    "    return (stock - strike + abs(stock - strike)) / 2\n",
    "\n",
    "s = np.arange(10, 80, 5)\n",
    "x = 30\n",
    "y = payoff_call(s, x) #(abs(s - x) + s - x) / 2\n",
    "plt.ylim(-10, 50)\n",
    "plt.plot(s, y)"
   ]
  },
  {
   "cell_type": "code",
   "execution_count": null,
   "metadata": {
    "collapsed": false
   },
   "outputs": [],
   "source": [
    "s = np.arange(30, 70, 5)\n",
    "x = 45\n",
    "call = 2.5\n",
    "profit = (abs(s-x)+s-x)/2 -call\n",
    "y2 = np.zeros(len(s))\n",
    "\n",
    "plt.ylim(-30, 50)\n",
    "plt.plot(s, profit)\n",
    "plt.plot(s, y2, '-.')\n",
    "plt.plot(s,-profit)\n",
    "plt.title(\"Profit/Loss function\")\n",
    "plt.xlabel('Stock price')\n",
    "plt.ylabel('Profit (loss)')\n",
    "plt.annotate('Call option buyer', xy=(55,15), xytext=(35,20), arrowprops=dict(facecolor='blue',shrink=0.01),)\n",
    "plt.annotate('Call option seller', xy=(55,-10), xytext=(40,-20), arrowprops=dict(facecolor='red',shrink=0.01),)\n"
   ]
  },
  {
   "cell_type": "code",
   "execution_count": null,
   "metadata": {
    "collapsed": false
   },
   "outputs": [],
   "source": [
    "s = np.arange(30, 70, 5)\n",
    "x = 45\n",
    "p = 2\n",
    "y = (abs(x - s) + x - s) / 2\n",
    "y2 = np.zeros(len(s))\n",
    "x3 = [x, x]\n",
    "y3 = [-30, 10]\n",
    "\n",
    "plt.ylim(-30, 50)\n",
    "plt.plot(s, y)\n",
    "plt.plot(s, y2, '-.')\n",
    "plt.plot(s, -y)\n",
    "plt.plot(x3, y3)\n",
    "plt.title(\"Profit/Loss function for a put option\")\n",
    "plt.xlabel('Stock price')\n",
    "plt.ylabel('Profit (loss)')\n",
    "plt.annotate('Put option buyer', xy=(35, 12), xytext=(35, 45),\n",
    "             arrowprops=dict(facecolor='red', shrink=0.01), )\n",
    "plt.annotate('Put option seller', xy=(35, -10), xytext=(35, -25),\n",
    "             arrowprops=dict(facecolor='blue', shrink=0.01), )\n",
    "plt.annotate('Exercise price', xy=(45, -30), xytext=(50, -20),\n",
    "             arrowprops=dict(facecolor='black', shrink=0.01), )"
   ]
  },
  {
   "cell_type": "code",
   "execution_count": null,
   "metadata": {
    "collapsed": false
   },
   "outputs": [],
   "source": [
    "# Covered called\n",
    "sT = np.arange(0, 40, 5)\n",
    "k = 15\n",
    "s0 = 10\n",
    "c = 2\n",
    "y0 = np.zeros(len(sT))\n",
    "y1 = sT - s0  # stock only \n",
    "y2 = (abs(sT - k) + sT - k) / 2 - c  # long a call\n",
    "y3 = y1 - y2  # covered-call\n",
    "\n",
    "plt.ylim(-10, 30)\n",
    "plt.plot(sT, y1)\n",
    "plt.plot(sT, y2)\n",
    "plt.plot(sT, y3, 'red')\n",
    "plt.plot(sT, y0, 'b-.')\n",
    "plt.plot([k, k], [-10, 10], 'black')\n",
    "plt.title('Covered call (long one share and short one call)')\n",
    "plt.xlabel('Stock price')\n",
    "plt.ylabel('Profit (loss)')\n",
    "plt.annotate('Stock only (long one share)', xy=(24, 15), xytext=(15, 20),\n",
    "             arrowprops=dict(facecolor='blue', shrink=0.01), )\n",
    "plt.annotate('Long one share, short a call', xy=(10, 4), xytext=(9, 25),\n",
    "             arrowprops=dict(facecolor='red', shrink=0.01), )\n",
    "plt.annotate('Exercise price= ' + str(k), xy=(k + 0.2, -10 + 0.5))"
   ]
  },
  {
   "cell_type": "code",
   "execution_count": null,
   "metadata": {
    "collapsed": false
   },
   "outputs": [],
   "source": [
    "# Straddle\n",
    "sT = np.arange(30, 80, 5)\n",
    "x = 50;\n",
    "c = 2;\n",
    "p = 1\n",
    "straddle = (abs(sT - x) + sT - x) / 2 - c + (abs(x - sT) + x - sT) / 2 - p\n",
    "y0 = np.zeros(len(sT))\n",
    "\n",
    "plt.ylim(-6, 20)\n",
    "plt.xlim(40, 70)\n",
    "plt.plot(sT, y0)\n",
    "plt.plot(sT, straddle, 'r')\n",
    "plt.plot([x, x], [-6, 4], 'g-.')\n",
    "plt.title(\"Profit-loss for a Straddle\")\n",
    "plt.xlabel('Stock price')\n",
    "plt.ylabel('Profit (loss)')\n",
    "plt.annotate('Point 1=' + str(x - c - p), xy=(x - p - c, 0), xytext=(x - p - c, 10),\n",
    "             arrowprops=dict(facecolor='red', shrink=0.01), )\n",
    "plt.annotate('Point 2=' + str(x + c + p), xy=(x + p + c, 0), xytext=(x + p + c, 13),\n",
    "             arrowprops=dict(facecolor='blue', shrink=0.01), )\n",
    "plt.annotate('exercise price', xy=(x + 1, -5))\n",
    "plt.annotate('Buy a call and buy a put with the same exericse price', xy=(45, 16))"
   ]
  },
  {
   "cell_type": "code",
   "execution_count": null,
   "metadata": {
    "collapsed": true
   },
   "outputs": [],
   "source": []
  }
 ],
 "metadata": {
  "anaconda-cloud": {},
  "kernelspec": {
   "display_name": "Python [Root]",
   "language": "python",
   "name": "Python [Root]"
  },
  "language_info": {
   "codemirror_mode": {
    "name": "ipython",
    "version": 2
   },
   "file_extension": ".py",
   "mimetype": "text/x-python",
   "name": "python",
   "nbconvert_exporter": "python",
   "pygments_lexer": "ipython2",
   "version": "2.7.12"
  }
 },
 "nbformat": 4,
 "nbformat_minor": 0
}
