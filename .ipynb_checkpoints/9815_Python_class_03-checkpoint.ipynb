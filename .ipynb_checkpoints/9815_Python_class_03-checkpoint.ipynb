{
 "cells": [
  {
   "cell_type": "markdown",
   "metadata": {},
   "source": [
    "# MFE 9815 - Software Engineering in Finance\n",
    "\n",
    "## Fall 2016 - Python Class - Part 3\n",
    "\n",
    "### Alain Ledon"
   ]
  },
  {
   "cell_type": "markdown",
   "metadata": {},
   "source": [
    "# Today We'll Cover\n",
    "\n",
    "* Exceptions\n",
    "* Reading and Writing Files\n",
    "* Serialization in Python\n",
    "* Reading Excel (if you have to)"
   ]
  },
  {
   "cell_type": "markdown",
   "metadata": {},
   "source": [
    "# Exceptions\n",
    "\n",
    "* Exceptions indicate errors and break out of the normal control flow of a program. \n",
    "* An exception is raised using the **raise** statement. \n",
    "* If the raise statement is used by itself, the last exception generated is raised again (although this works only while handling a previously raised exception). \n",
    "* Exceptions are caught using **try** and **except** statements\n",
    "* [Errors and Exceptions](http://docs.python.org/tutorial/errors.html)"
   ]
  },
  {
   "cell_type": "code",
   "execution_count": null,
   "metadata": {
    "collapsed": false
   },
   "outputs": [],
   "source": [
    "# raising an exception\n",
    "raise RuntimeError(\"The s#!t hit the fan\")"
   ]
  },
  {
   "cell_type": "code",
   "execution_count": null,
   "metadata": {
    "collapsed": false
   },
   "outputs": [],
   "source": [
    "f = open('foo')"
   ]
  },
  {
   "cell_type": "code",
   "execution_count": null,
   "metadata": {
    "collapsed": false
   },
   "outputs": [],
   "source": [
    "pass"
   ]
  },
  {
   "cell_type": "code",
   "execution_count": null,
   "metadata": {
    "collapsed": false
   },
   "outputs": [],
   "source": [
    "try:\n",
    "    f = open('foo')\n",
    "except IOError as e:\n",
    "    #pass\n",
    "    print \"There was an I/O Error\"\n",
    "    print \"file not found: {0}\".format(e.filename)"
   ]
  },
  {
   "cell_type": "markdown",
   "metadata": {},
   "source": [
    "# Exceptions\n",
    "\n",
    "* When an exception occurs, the interpreter stops executing statements in the try block and looks for an except clause that matches the exception\n",
    "* If one is found, control is passed to the first statement in the except clause. \n",
    "* After the except clause is executed, control continues after the try-except block. \n",
    "* If not, the exception is propagated up to the block of code in which the try statement appeared. \n",
    "* If an exception works its way up to the top level of a program without being caught, the interpreter aborts with an error message. \n",
    "* The optional **as var** modifier to the **except** statement supplies the name of a variable in which an instance of the exception\n",
    "* Exception handlers can examine this value to find out more about the cause of the exception.\n",
    "* Multiple exception handling blocks are specified using multiple **except** clauses\n",
    "* A single handler can catch multiple exceptions\n",
    "* Use **pass** to ignore an exception \n",
    "* To catch all exceptions except those related to program exit, use **Exception**. Make sure to report accurate information so you can debug the issue later."
   ]
  },
  {
   "cell_type": "code",
   "execution_count": null,
   "metadata": {
    "collapsed": false
   },
   "outputs": [],
   "source": [
    "# Multiple exception handling blocks are specified using multiple clauses\n",
    "\n",
    "TEST_EXCEPTIONS = [IOError, TypeError, NameError, ZeroDivisionError]\n",
    "\n",
    "def test_exceptions(i):\n",
    "    try:\n",
    "        raise TEST_EXCEPTIONS[i]        \n",
    "    except IOError as e:\n",
    "        # handle IOError\n",
    "        print \"handling IOError\"\n",
    "    except TypeError as e:\n",
    "        # handle TypeError\n",
    "        print \"handling TypeError\"\n",
    "    except NameError as e:\n",
    "        # handle NameError\n",
    "        print \"handling NameError\"\n",
    "    except ZeroDivisionError:\n",
    "        # use pass to ignore exceptions\n",
    "        pass"
   ]
  },
  {
   "cell_type": "code",
   "execution_count": null,
   "metadata": {
    "collapsed": false
   },
   "outputs": [],
   "source": [
    "enumerate?"
   ]
  },
  {
   "cell_type": "code",
   "execution_count": null,
   "metadata": {
    "collapsed": false
   },
   "outputs": [],
   "source": [
    "for i, x in enumerate(TEST_EXCEPTIONS):\n",
    "    test_exceptions(i)"
   ]
  },
  {
   "cell_type": "code",
   "execution_count": null,
   "metadata": {
    "collapsed": false
   },
   "outputs": [],
   "source": [
    "def test_exceptions_one_handler(i):\n",
    "    try:\n",
    "        raise TEST_EXCEPTIONS[i](\"Exception Message\")        \n",
    "    except (IOError, TypeError, NameError) as e:\n",
    "        # handle NameError\n",
    "        print \"handling more than one exception here\"\n",
    "        print e.message\n",
    "    except ZeroDivisionError:\n",
    "        # use pass to ignore exceptions\n",
    "        print \"handling zero div error\""
   ]
  },
  {
   "cell_type": "code",
   "execution_count": null,
   "metadata": {
    "collapsed": false
   },
   "outputs": [],
   "source": [
    "test_exceptions_one_handler(3)"
   ]
  },
  {
   "cell_type": "code",
   "execution_count": null,
   "metadata": {
    "collapsed": false
   },
   "outputs": [],
   "source": [
    "# To catch all exceptions except those related to program exit, use **Exception**. \n",
    "# Make sure to report accurate information so you can debug the issue later.\n",
    "def test_catch_all(i):\n",
    "    try:\n",
    "        test_exceptions(i)\n",
    "    except Exception as e:\n",
    "        print \"catch anything\""
   ]
  },
  {
   "cell_type": "code",
   "execution_count": null,
   "metadata": {
    "collapsed": false
   },
   "outputs": [],
   "source": [
    "test_catch_all(4)"
   ]
  },
  {
   "cell_type": "markdown",
   "metadata": {},
   "source": [
    "# Exceptions \n",
    "\n",
    "* The **try** statement supports an **else** clause after the last **except**. \n",
    "* The **else** clause is executed if no exception is raised. You can re-raise by calling **raise** without argument\n",
    "* The **try** statement also supports a **finally** clause. It is executed regardless if there is an exception or not. \n",
    "* The code in **finally** will always be executed regardless if there is an error or not (useful to manage resources, i.e. files).\n",
    "* [Python Exception Handling Techniques](http://www.doughellmann.com/articles/how-tos/python-exception-handling/index.html)"
   ]
  },
  {
   "cell_type": "code",
   "execution_count": null,
   "metadata": {
    "collapsed": false
   },
   "outputs": [],
   "source": [
    "def test_reraise(i):\n",
    "    try:\n",
    "        raise TEST_EXCEPTIONS[i]        \n",
    "    except IOError as e:\n",
    "        # handle IOError\n",
    "        print \"handling IOError\"\n",
    "    except TypeError as e:\n",
    "        # handle TypeError\n",
    "        print \"handling TypeError\"\n",
    "    except NameError as e:\n",
    "        # handle NameError\n",
    "        print \"handling NameError\"\n",
    "        raise\n",
    "    except ZeroDivisionError:\n",
    "        # use pass to ignore exceptions\n",
    "        pass"
   ]
  },
  {
   "cell_type": "code",
   "execution_count": null,
   "metadata": {
    "collapsed": false
   },
   "outputs": [],
   "source": [
    "test_reraise(0)"
   ]
  },
  {
   "cell_type": "code",
   "execution_count": null,
   "metadata": {
    "collapsed": false
   },
   "outputs": [],
   "source": [
    "test_reraise(2)"
   ]
  },
  {
   "cell_type": "code",
   "execution_count": null,
   "metadata": {
    "collapsed": false
   },
   "outputs": [],
   "source": [
    "def try_file(file_path):\n",
    "    try:\n",
    "        f = open(file_path, 'r')\n",
    "        #raise NameException(\"bla\")\n",
    "    except IOError as e:\n",
    "        print 'Unable to open myfile: {0}'.format(e.filename)\n",
    "    else:\n",
    "        data = f.read()\n",
    "        print \"closing the file\"\n",
    "        f.close\n",
    "    finally:\n",
    "        print \"we are running this regardless...\""
   ]
  },
  {
   "cell_type": "code",
   "execution_count": null,
   "metadata": {
    "collapsed": false
   },
   "outputs": [],
   "source": [
    "try_file(\"apapapap\")"
   ]
  },
  {
   "cell_type": "markdown",
   "metadata": {},
   "source": [
    "# Built-in Exceptions\n",
    "\n",
    "[Built-in Exceptions](http://docs.python.org/library/exceptions.html)      "
   ]
  },
  {
   "cell_type": "code",
   "execution_count": null,
   "metadata": {
    "collapsed": false
   },
   "outputs": [],
   "source": [
    "from IPython.display import Image\n",
    "Image(\"builtinexceptions.JPG\")"
   ]
  },
  {
   "cell_type": "markdown",
   "metadata": {},
   "source": [
    "# Defining New Exceptions\n",
    "\n",
    "* All exceptions are defined in terms of classes\n",
    "* Create a new exception as a new class that inherits from Exception\n",
    "* Values supplied with the **raise** statement are used as arguments to the exception's constructor\n",
    "* [User-defined Exceptions](http://docs.python.org/tutorial/errors.html#user-defined-exceptions)"
   ]
  },
  {
   "cell_type": "code",
   "execution_count": null,
   "metadata": {
    "collapsed": false
   },
   "outputs": [],
   "source": [
    "class DeviceError(Exception):\n",
    "    def __init__(self, errno, msg):\n",
    "        self.args = (errno, msg)\n",
    "        self.errno = errno\n",
    "        self.msg = msg\n",
    "        \n",
    "try:\n",
    "    raise DeviceError(22, 'GIPB Error')\n",
    "except DeviceError as e:\n",
    "    print \"There was a device error => {0}\".format(e.msg)"
   ]
  },
  {
   "cell_type": "markdown",
   "metadata": {},
   "source": [
    "# Reading and Writing Files\n",
    "\n",
    "* Reading and writing files is done using the function **open** \n",
    "* It follows the same semantics as old C **fopen**"
   ]
  },
  {
   "cell_type": "code",
   "execution_count": null,
   "metadata": {
    "collapsed": false
   },
   "outputs": [],
   "source": [
    "file?"
   ]
  },
  {
   "cell_type": "code",
   "execution_count": null,
   "metadata": {
    "collapsed": false
   },
   "outputs": [],
   "source": [
    "f = open('myfile', 'w') # open file for writing\n",
    "f.write(\"this is a test\\n\") # write something to the file\n",
    "f.write(\"something else\\n\") # write something else\n",
    "f.close() # close the file"
   ]
  },
  {
   "cell_type": "code",
   "execution_count": null,
   "metadata": {
    "collapsed": false
   },
   "outputs": [],
   "source": [
    "f = open('myfile', 'r') # open file for writing\n",
    "a = f.read(5) # read 5 bytes from a file\n",
    "print a"
   ]
  },
  {
   "cell_type": "code",
   "execution_count": null,
   "metadata": {
    "collapsed": false
   },
   "outputs": [],
   "source": [
    "a = f.readline()  # read one line (until \\n)\n",
    "print a"
   ]
  },
  {
   "cell_type": "code",
   "execution_count": null,
   "metadata": {
    "collapsed": false
   },
   "outputs": [],
   "source": [
    "l = f.readlines()  # read all the lines and return a list\n",
    "print l\n",
    "f.seek(0)\n",
    "# read all the lines in a loop\n",
    "for line in f:\n",
    "    print line\n",
    "f.close()"
   ]
  },
  {
   "cell_type": "markdown",
   "metadata": {},
   "source": [
    "# Reading and Writing Files\n",
    "\n",
    "* It is a good practice to use the **with** keyword when dealing with files. \n",
    "* The file will be properly closed after its suite finishes, even if an exception is raised on the way."
   ]
  },
  {
   "cell_type": "code",
   "execution_count": null,
   "metadata": {
    "collapsed": false
   },
   "outputs": [],
   "source": [
    "with open('myfile', 'r') as f:\n",
    "    # process the file here \n",
    "    read_data = f.read()\n",
    "    print read_data"
   ]
  },
  {
   "cell_type": "markdown",
   "metadata": {},
   "source": [
    "# More about reading files\n",
    "\n",
    "* If you want to process files efficiently use the [linecache module](http://www.doughellmann.com/PyMOTW/linecache/index.html)\n",
    "* If you need to create a temporary file, use the [tempfile module](http://www.doughellmann.com/PyMOTW/tempfile/index.html#module-tempfile)\n",
    "* To work with compressed files (.tar, .bz2, .gz, .zip), use any of the [data compression modules](http://www.doughellmann.com/PyMOTW/compression.html)"
   ]
  },
  {
   "cell_type": "code",
   "execution_count": null,
   "metadata": {
    "collapsed": false
   },
   "outputs": [],
   "source": []
  },
  {
   "cell_type": "markdown",
   "metadata": {},
   "source": [
    "# Reading CSV files\n",
    "\n",
    "* To read CSV files use the [csv module](http://docs.python.org/library/csv.html). Here are some examples [PyMOTW csv](http://www.doughellmann.com/PyMOTW/csv/index.html#module-csv)\n",
    "* The **csv** module gets a bad rap for being inefficient, different modules implement their own version of csv parsing like **numpy.loadtxt**\n",
    "* If you need to read a csv file in a context of a library, check first if the library includes a csv reader\n",
    "* **pandas** has a very efficient csv parser: [A new high performance, memory-efficient file parser engine for pandas](http://wesmckinney.com/blog/?p=543)"
   ]
  },
  {
   "cell_type": "markdown",
   "metadata": {},
   "source": [
    "# Serialization in Python\n",
    "\n",
    "* **Serialization** is the process of converting a data structure or object into a format that can be stored and materialized at a later time\n",
    "* **Deserialization** is the opposite process (materializing)\n",
    "* In theory, serialization allows to create an identical clone of the original object\n",
    "* For objects with references, i.e. shallow copies, the process of serialization is not straighforward. "
   ]
  },
  {
   "cell_type": "markdown",
   "metadata": {},
   "source": [
    "# Serialization in Python\n",
    "\n",
    "* Python uses the **pickle** module to serialize Python objects into a stream of bytes suitable for storing in a file, transferring across a network, or placing in a database. \n",
    "* The process is called pickling, serializing, marshalling, or flattening. \n",
    "* The resulting byte stream can also be converted back into a series of Python objects using an unpickling process.\n",
    "* **cPickle** is another module with the same interface much faster than **pickle** but you can't subclass it\n",
    "* If subclassing is not important, use **cPickle**\n",
    "* Use **pickle.load**, **pickle.loads**, **cPickle.Pickler** to serialize objects\n",
    "* Use **pickle.dump**, **pickle.dumps**, **cPickle.Unpickler** to materialize objects\n",
    "* [http://www.doughellmann.com/PyMOTW/pickle/index.html](http://www.doughellmann.com/PyMOTW/pickle/index.html)"
   ]
  },
  {
   "cell_type": "code",
   "execution_count": null,
   "metadata": {
    "collapsed": false
   },
   "outputs": [],
   "source": [
    "# Here is an example\n",
    "try:\n",
    "    import cPickle as pickle\n",
    "except:\n",
    "    import pickle\n",
    "import pprint"
   ]
  },
  {
   "cell_type": "code",
   "execution_count": null,
   "metadata": {
    "collapsed": false
   },
   "outputs": [],
   "source": [
    "print 'DATA:'\n",
    "data = [ { 'a':'A', 'b':2, 'c':3.0 } ]\n",
    "pprint.pprint(data)"
   ]
  },
  {
   "cell_type": "code",
   "execution_count": null,
   "metadata": {
    "collapsed": false
   },
   "outputs": [],
   "source": [
    "print 'PICKLE:'\n",
    "data_string = pickle.dumps(data)\n",
    "print data_string"
   ]
  },
  {
   "cell_type": "code",
   "execution_count": null,
   "metadata": {
    "collapsed": false
   },
   "outputs": [],
   "source": [
    "print 'AFTER:'\n",
    "data2 = pickle.loads(data_string)\n",
    "pprint.pprint(data2)"
   ]
  },
  {
   "cell_type": "code",
   "execution_count": null,
   "metadata": {
    "collapsed": false
   },
   "outputs": [],
   "source": [
    "# Better implementation\n",
    "from functools import total_ordering\n",
    "\n",
    "@total_ordering\n",
    "class BetterBBPlayer(object):\n",
    "    def __init__(self, name, knick, rings):\n",
    "        self.name = name\n",
    "        self.knick = knick\n",
    "        self.rings = rings\n",
    "            \n",
    "    def __str__(self):\n",
    "        return \"I'm {0}\".format(self.knick)\n",
    "\n",
    "    def __repr__(self):\n",
    "        return \"I'm a baseball player named {0}, knicknamed {1}\".format(self.name, self.knick)\n",
    "        \n",
    "    def __lt__(self, other):\n",
    "        return self.rings < other.rings\n",
    "        \n",
    "    def __eq__(self, other):\n",
    "        return self.rings == other.rings\n",
    "\n",
    "    def __len__(self):\n",
    "        return self.rings "
   ]
  },
  {
   "cell_type": "code",
   "execution_count": null,
   "metadata": {
    "collapsed": false
   },
   "outputs": [],
   "source": [
    "dj = BetterBBPlayer(\"DJ\", \"The Captain\", 5)\n",
    "yogi = BetterBBPlayer(\"Berra\", \"Yogi\", 13)"
   ]
  },
  {
   "cell_type": "code",
   "execution_count": null,
   "metadata": {
    "collapsed": false
   },
   "outputs": [],
   "source": [
    "print dj, yogi"
   ]
  },
  {
   "cell_type": "code",
   "execution_count": null,
   "metadata": {
    "collapsed": false
   },
   "outputs": [],
   "source": [
    "PICKLE_FILE = \"pickle_bbplayers.dat\"\n",
    "out_s = open(PICKLE_FILE, 'wb')\n",
    "try:\n",
    "    # Write to the stream\n",
    "    print 'writing to a file...'\n",
    "    pickle.dump(dj, out_s)\n",
    "    pickle.dump(yogi, out_s)\n",
    "finally:\n",
    "    out_s.close()"
   ]
  },
  {
   "cell_type": "code",
   "execution_count": null,
   "metadata": {
    "collapsed": false
   },
   "outputs": [],
   "source": [
    "in_s = open(PICKLE_FILE, 'rb')\n",
    "try:\n",
    "    try:\n",
    "        print 'reading from file...'\n",
    "        djcopy = pickle.load(in_s)\n",
    "        ycopy = pickle.load(in_s)\n",
    "    except EOFError:\n",
    "        print 'Oops, error reading from file.'\n",
    "    else:\n",
    "        print djcopy\n",
    "    print 'SAME?:', (dj is djcopy)\n",
    "    print 'EQUAL?:', (dj == djcopy)\n",
    "finally:\n",
    "    in_s.close()\n",
    "print ycopy"
   ]
  },
  {
   "cell_type": "markdown",
   "metadata": {},
   "source": [
    "# Reading Excel (if you have to)\n",
    "\n",
    "* There are currently two popular modules to read excel files\n",
    "* [xlrd](https://secure.simplistix.co.uk/svn/xlrd/trunk/xlrd/doc/xlrd.html) lets you read Excel XLS files 97-2003 formats.\n",
    "* [openpyxl](http://packages.python.org/openpyxl/) lets you read Excel XLSX files 2007 up formats.\n",
    "* **pandas** has direct support for reading Excel files into dataframes using the modules specified above\n",
    "* A new free tool is [xlwings](http://xlwings.org/). It works in Windows and in OS X\n",
    "* Another option for interacting with Excel files is to use [DataNitro](http://datanitro.com/)"
   ]
  },
  {
   "cell_type": "code",
   "execution_count": null,
   "metadata": {
    "collapsed": false
   },
   "outputs": [],
   "source": [
    "import numpy as np\n",
    "import pandas as pd\n",
    "from scipy.stats import norm\n",
    "from xlwings import Workbook, Range, Chart"
   ]
  },
  {
   "cell_type": "code",
   "execution_count": null,
   "metadata": {
    "collapsed": false
   },
   "outputs": [],
   "source": [
    "wb = Workbook()  # Creates a reference to the calling Excel file"
   ]
  },
  {
   "cell_type": "code",
   "execution_count": null,
   "metadata": {
    "collapsed": false
   },
   "outputs": [],
   "source": [
    "Range('A1').value = ['Foo 1', 'Foo 2', 'Foo 3', 'Foo 4']"
   ]
  },
  {
   "cell_type": "code",
   "execution_count": null,
   "metadata": {
    "collapsed": false
   },
   "outputs": [],
   "source": [
    "Range('A2').value = [10, 20, 30, 40]"
   ]
  },
  {
   "cell_type": "code",
   "execution_count": null,
   "metadata": {
    "collapsed": false
   },
   "outputs": [],
   "source": [
    "Range('A1').table.value  # Read the whole table back"
   ]
  },
  {
   "cell_type": "code",
   "execution_count": null,
   "metadata": {
    "collapsed": false
   },
   "outputs": [],
   "source": [
    "chart = Chart().add(source_data=Range('A1').table)"
   ]
  },
  {
   "cell_type": "code",
   "execution_count": null,
   "metadata": {
    "collapsed": false
   },
   "outputs": [],
   "source": [
    "Range(\"A8\").value = norm.rvs(size=100).reshape(100, 1)"
   ]
  },
  {
   "cell_type": "code",
   "execution_count": null,
   "metadata": {
    "collapsed": false
   },
   "outputs": [],
   "source": [
    "norm_df = pd.DataFrame({'x': norm.rvs(size=1000000)})"
   ]
  },
  {
   "cell_type": "code",
   "execution_count": null,
   "metadata": {
    "collapsed": false
   },
   "outputs": [],
   "source": [
    "Range(\"C8\").value = norm_df"
   ]
  },
  {
   "cell_type": "code",
   "execution_count": null,
   "metadata": {
    "collapsed": false
   },
   "outputs": [],
   "source": [
    "bins = np.linspace(min(norm_df.x), max(norm_df.x), 15)"
   ]
  },
  {
   "cell_type": "code",
   "execution_count": null,
   "metadata": {
    "collapsed": false
   },
   "outputs": [],
   "source": [
    "x_bins = norm_df.x.groupby(pd.cut(norm_df.x, bins))"
   ]
  },
  {
   "cell_type": "code",
   "execution_count": null,
   "metadata": {
    "collapsed": false
   },
   "outputs": [],
   "source": [
    "Range(\"F8\").value = x_bins.count()"
   ]
  },
  {
   "cell_type": "code",
   "execution_count": null,
   "metadata": {
    "collapsed": false
   },
   "outputs": [],
   "source": [
    "hist_chart = Chart().add(source_data=Range('G8').table)"
   ]
  },
  {
   "cell_type": "code",
   "execution_count": null,
   "metadata": {
    "collapsed": false
   },
   "outputs": [],
   "source": []
  }
 ],
 "metadata": {
  "kernelspec": {
   "display_name": "Python 2",
   "language": "python",
   "name": "python2"
  },
  "language_info": {
   "codemirror_mode": {
    "name": "ipython",
    "version": 2
   },
   "file_extension": ".py",
   "mimetype": "text/x-python",
   "name": "python",
   "nbconvert_exporter": "python",
   "pygments_lexer": "ipython2",
   "version": "2.7.13"
  }
 },
 "nbformat": 4,
 "nbformat_minor": 0
}
